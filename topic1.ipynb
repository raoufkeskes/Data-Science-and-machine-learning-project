{
 "cells": [
  {
   "cell_type": "markdown",
   "metadata": {},
   "source": [
    "**Indiquer dans la boîte ci-dessous vos noms et prénoms**"
   ]
  },
  {
   "cell_type": "markdown",
   "metadata": {},
   "source": [
    "Abdelraouf KESKES   et  Salim MOULOUEL"
   ]
  },
  {
   "cell_type": "markdown",
   "metadata": {
    "collapsed": true
   },
   "source": [
    "## Partie 1 - Description du problème"
   ]
  },
  {
   "cell_type": "markdown",
   "metadata": {},
   "source": [
    "Dans ce notebook  on va s'intéresser à un problème très important dans le milieu du football , il consistera à essayer \n",
    "de trouver un lien entre le couple (Taille , Poids) d'un joueur et son ( accélaration ) car si on arrive à concevoir un système intelligent général permettant de prédire toutes les informations lièes à la rapidité ( accélération , Vitesse en sprint , agilité , réactions ) avec une prédiction très elevée ça peut révolutionner  tout le domaine de recrutement dans les clubs et ils pourront voir si ce joueur convient réellement à leur tactique de jeu ou pas . Dans notre cas , on va s'interésser à la colonne ( acceleration ) pour le moment , et on va concidérer ce problème comme étant un probème de classification et non pas de regression .\n",
    "La classification sera ternaire ainsi : \n",
    "- < 65 : lent <=> -1 \n",
    "- [65,80[ : moyen <=> 0\n",
    "- [80,100] : rapide <=> +1"
   ]
  },
  {
   "cell_type": "markdown",
   "metadata": {},
   "source": [
    "## Partie 2 - Modèle"
   ]
  },
  {
   "cell_type": "markdown",
   "metadata": {},
   "source": [
    "Dans ce problème on va opter pour un apprentissage supervisé  dans un premier temps par KNN , et ensuite on testera d'autres classifieurs dans le but d'améliorer l'accuracy .\n",
    "\n",
    "- Avantages du KNN : il s'adapte a des classifications autres que des classifications binaires simples et son apprentissage est à O(1) en terme de complexité .\n",
    "- Inconvéniants du KNN  : la complexité de la prédiction est mauvaise , ça contredit aussi un peu le raisonnement humain qui prend généralement  beaucoup de temps à apprendre , mais une fois qu'il a bien appris et compris , il pourra répondre avec un temps très raisonnable voire même  instantanément \n",
    "\n",
    "Par rapport aux données on doit donc regrouper pour chaque joueur sa taille , son poids  et son accélération qu'on doit transformer en 3 classes ultérieurement ."
   ]
  },
  {
   "cell_type": "markdown",
   "metadata": {},
   "source": [
    "## Partie 3 - Code"
   ]
  },
  {
   "cell_type": "code",
   "execution_count": 2,
   "metadata": {
    "collapsed": true
   },
   "outputs": [],
   "source": [
    "########################################  librairies ###############################################\n",
    "import pandas as pd\n",
    "import numpy as np\n",
    "import matplotlib.pyplot as plt\n",
    "import matplotlib\n",
    "# Permet d'afficher les figures directement dans le notebook:\n",
    "%matplotlib inline"
   ]
  },
  {
   "cell_type": "code",
   "execution_count": 49,
   "metadata": {
    "collapsed": true
   },
   "outputs": [],
   "source": [
    "######################   Extraction des données utiles  #############################################\n",
    "pd.set_option('display.max_columns', 500)\n",
    "pd.set_option('display.max_colwidth', 1000)\n",
    "\n",
    "df_player = pd.read_csv('../soccer/player.csv')\n",
    "df_playerAttrs = pd.read_csv('../soccer/playerattributes.csv'  )\n",
    "\n",
    "df_player = df_player[['player_api_id' , 'height' , 'weight']]\n",
    "df_playerAttrs  = df_playerAttrs[['player_api_id' , 'acceleration' ]].groupby('player_api_id' , as_index=False).mean()\n",
    "\n",
    "\n",
    "df = pd.merge(df_player, df_playerAttrs, on='player_api_id', how='inner')\n",
    "df.drop('player_api_id', axis=1, inplace=True)"
   ]
  },
  {
   "cell_type": "code",
   "execution_count": 4,
   "metadata": {
    "collapsed": true
   },
   "outputs": [],
   "source": [
    "#######################################  Classes utiles #############################################\n",
    "class LabeledSet:  \n",
    "    \n",
    "    def __init__(self, input_dimension):\n",
    "        self.input_dimension = input_dimension\n",
    "        self.nb_examples = 0\n",
    "        # Pour faire un dataset de training et de test  correcte  \n",
    "        self.class_indexes = dict()\n",
    "    \n",
    "    def addExample(self,vector,label):\n",
    "        if (self.nb_examples == 0):\n",
    "            self.x = np.array([vector])\n",
    "            self.y = np.array([label])\n",
    "        else:\n",
    "            self.x = np.vstack((self.x, vector))\n",
    "            self.y = np.concatenate(   ( self.y  ,  np.array([label]) )   )\n",
    "            \n",
    "        #pour garder l'aspect général  quelque soit le nbr de classes on sauvgarde les indices car on en aura besoin\n",
    "        #pour plusieurs traitements  le plus important d entre eux est le split Train/Test\n",
    "        if ( label in self.class_indexes ):\n",
    "            self.class_indexes[label].append( self.nb_examples )\n",
    "        else :\n",
    "            self.class_indexes[label] = [  self.nb_examples ]\n",
    "            \n",
    "        self.nb_examples = self.nb_examples + 1\n",
    "    \n",
    "    #Renvoie la dimension de l'espace d'entrée\n",
    "    def getInputDimension(self):\n",
    "        return self.input_dimension\n",
    "    \n",
    "    #Renvoie le nombre d'exemples dans le set\n",
    "    def size(self):\n",
    "        return self.nb_examples\n",
    "    \n",
    "    #Renvoie la valeur de x_i\n",
    "    def getX(self, i):\n",
    "        return self.x[i]\n",
    "        \n",
    "    \n",
    "    #Renvouie la valeur de y_i\n",
    "    def getY(self, i):\n",
    "        return(self.y[i])\n",
    "    \n",
    "################################### Fonction utiles #######################################\n",
    "def plot2DSet(dataset):\n",
    "    from matplotlib.colors import ListedColormap\n",
    "    x=dataset.x[:,0]\n",
    "    y=dataset.x[:,1]\n",
    "    classes = dataset.y\n",
    "    cmap = ListedColormap([ 'green', 'yellow','red'])\n",
    "    plt.scatter(x, y, c=classes, label=classes,cmap=cmap)\n",
    "    plt.colorbar()\n",
    "    unique_classes = list(set(classes))\n",
    "    plt.table(cellText=[[-1], [0] , [+1]], loc='lower right',\n",
    "              colWidths=[0.2],rowColours=[ 'green', 'yellow','red'],\n",
    "             rowLabels=['Lent','Moyen','Rapide'],\n",
    "              colLabels=['classes'])\n",
    "\n",
    "def label( data ):\n",
    "    if ( data < 65 ) : return -1 \n",
    "    if ( data >= 65 and data < 80 ) : return 0\n",
    "    if ( data >= 80 ) : return +1 \n",
    "    return 0\n",
    "\n",
    "def Train_Test_Split(dataset, training_percent  ):\n",
    "    \n",
    "    trainSet = LabeledSet (dataset.getInputDimension())\n",
    "    testSet  = LabeledSet (dataset.getInputDimension())\n",
    "    \n",
    "    for key in dataset.class_indexes : \n",
    "        \n",
    "        size = len ( dataset.class_indexes[key] ) \n",
    "        \n",
    "        train_sliced = dataset.class_indexes[key][0:int( training_percent * size )]\n",
    "        for index in train_sliced :\n",
    "            trainSet.addExample ( dataset.getX(index) , dataset.getY(index) ) \n",
    "            \n",
    "        test_sliced = dataset.class_indexes[key][int( training_percent * size ):]\n",
    "        for index in test_sliced :\n",
    "            testSet.addExample ( dataset.getX(index) , dataset.getY(index) )\n",
    "            \n",
    "    return trainSet , testSet\n",
    "\n",
    "def convert_df_to_ls( df , data_cols_count ):\n",
    "    matrix = df.as_matrix()\n",
    "    ls = LabeledSet( data_cols_count )\n",
    "    for row in matrix :\n",
    "        ls.addExample ( row[:data_cols_count] , label (row[data_cols_count]) )\n",
    "    return ls\n",
    "    \n",
    "    \n",
    "##################################### Classifieurs ######################################### \n",
    "class Classifier:\n",
    "    def __init__(self, input_dimension):\n",
    "        raise NotImplementedError(\"Please Implement this method\")\n",
    "    \n",
    "    \n",
    "    #Permet de calculer la prediction sur x => renvoie un score\n",
    "    def predict(self, x):\n",
    "        raise NotImplementedError(\"Please Implement this method\")\n",
    "\n",
    "    \n",
    "    #Permet d'entrainer le modele sur un ensemble de données\n",
    "    def train(self, labeledSet):\n",
    "        raise NotImplementedError(\"Please Implement this method\")\n",
    "    \n",
    "    #Permet de calculer la qualité du système \n",
    "    def accuracy(self, dataset):\n",
    "        S = 0\n",
    "        n = dataset.size()  \n",
    "        for i in range(n):\n",
    "            if ( self.predict (dataset.getX(i)) * dataset.getY(i) > 0 ) : \n",
    "                S += 1\n",
    "        return (S*100.00/n )\n",
    "\n",
    "class KNN(Classifier):\n",
    "   \n",
    "    def __init__(self, input_dimension , k ):\n",
    "        self.k = k \n",
    "        self.input_dimension = input_dimension\n",
    "        \n",
    "    #Permet de calculer la prediction sur x => renvoie un score\n",
    "    def predict(self, x):\n",
    "        distances =[]\n",
    "        for i in range (self.model.size()):\n",
    "            #Distance Euclédienne fait par moi même\n",
    "            # np.sqrt(( self.model.getX(i)[0] -  x[0] )**2  +  ( self.model.getX(i)[1] - x[1] )**2 )\n",
    "            #Pour des Dimensions énormes faut penser a utiliser une fonction  prédéfinie Ex : np.linalg.norm\n",
    "            distances.append( np.linalg.norm(self.model.getX(i)-x) ) \n",
    "        #Sort distances\n",
    "        distances = np.argsort(np.array(distances)) \n",
    "        S = 0 \n",
    "        for i in range(self.k):\n",
    "            #Pas la peine de faire la moyenne\n",
    "            S +=  self.model.getY(distances[i])\n",
    "        avg = S *1.0 / self.k\n",
    "        if ( avg < -0.33 ) : return -1 \n",
    "        if ( avg >= -0.33 and avg <= 0.33 ) : return 0\n",
    "        if ( avg > 0.33 ) : return +1 \n",
    "    \n",
    "        \n",
    "    #Permet d'entrainer le modèle sur un ensemble de données\n",
    "    def train(self, labeledSet):\n",
    "        self.model = labeledSet"
   ]
  },
  {
   "cell_type": "markdown",
   "metadata": {},
   "source": [
    "## Partie 4 - Protocole expérimental"
   ]
  },
  {
   "cell_type": "markdown",
   "metadata": {},
   "source": [
    "Tout d'abord on va faire une  visualisation des données qu'on a :"
   ]
  },
  {
   "cell_type": "code",
   "execution_count": 4,
   "metadata": {},
   "outputs": [
    {
     "data": {
      "text/html": [
       "<div>\n",
       "<style>\n",
       "    .dataframe thead tr:only-child th {\n",
       "        text-align: right;\n",
       "    }\n",
       "\n",
       "    .dataframe thead th {\n",
       "        text-align: left;\n",
       "    }\n",
       "\n",
       "    .dataframe tbody tr th {\n",
       "        vertical-align: top;\n",
       "    }\n",
       "</style>\n",
       "<table border=\"1\" class=\"dataframe\">\n",
       "  <thead>\n",
       "    <tr style=\"text-align: right;\">\n",
       "      <th></th>\n",
       "      <th>height</th>\n",
       "      <th>weight</th>\n",
       "      <th>acceleration</th>\n",
       "    </tr>\n",
       "  </thead>\n",
       "  <tbody>\n",
       "    <tr>\n",
       "      <th>0</th>\n",
       "      <td>182.88</td>\n",
       "      <td>187</td>\n",
       "      <td>60.000000</td>\n",
       "    </tr>\n",
       "    <tr>\n",
       "      <th>1</th>\n",
       "      <td>170.18</td>\n",
       "      <td>146</td>\n",
       "      <td>76.000000</td>\n",
       "    </tr>\n",
       "    <tr>\n",
       "      <th>2</th>\n",
       "      <td>170.18</td>\n",
       "      <td>163</td>\n",
       "      <td>75.538462</td>\n",
       "    </tr>\n",
       "    <tr>\n",
       "      <th>3</th>\n",
       "      <td>182.88</td>\n",
       "      <td>198</td>\n",
       "      <td>50.217391</td>\n",
       "    </tr>\n",
       "    <tr>\n",
       "      <th>4</th>\n",
       "      <td>182.88</td>\n",
       "      <td>154</td>\n",
       "      <td>51.120000</td>\n",
       "    </tr>\n",
       "  </tbody>\n",
       "</table>\n",
       "</div>"
      ],
      "text/plain": [
       "   height  weight  acceleration\n",
       "0  182.88     187     60.000000\n",
       "1  170.18     146     76.000000\n",
       "2  170.18     163     75.538462\n",
       "3  182.88     198     50.217391\n",
       "4  182.88     154     51.120000"
      ]
     },
     "execution_count": 4,
     "metadata": {},
     "output_type": "execute_result"
    }
   ],
   "source": [
    "df.head(5)"
   ]
  },
  {
   "cell_type": "code",
   "execution_count": 5,
   "metadata": {
    "collapsed": true
   },
   "outputs": [],
   "source": [
    "input_dimensions = 2\n",
    "dataset = convert_df_to_ls ( df ,  input_dimensions )"
   ]
  },
  {
   "cell_type": "markdown",
   "metadata": {},
   "source": [
    "##### Visualisation des données "
   ]
  },
  {
   "cell_type": "markdown",
   "metadata": {},
   "source": [
    "#### Figure 1"
   ]
  },
  {
   "cell_type": "code",
   "execution_count": 6,
   "metadata": {
    "scrolled": true
   },
   "outputs": [
    {
     "data": {
      "image/png": "[encoded data removed]",
      "text/plain": [
       "<matplotlib.figure.Figure at 0x7efc64c24dd8>"
      ]
     },
     "metadata": {},
     "output_type": "display_data"
    }
   ],
   "source": [
    "plot2DSet(dataset)"
   ]
  },
  {
   "cell_type": "markdown",
   "metadata": {},
   "source": [
    "#### Figure 2-1"
   ]
  },
  {
   "cell_type": "code",
   "execution_count": 17,
   "metadata": {
    "scrolled": true
   },
   "outputs": [
    {
     "data": {
      "image/png": "[encoded data removed]",
      "text/plain": [
       "<matplotlib.figure.Figure at 0x7fd5632214e0>"
      ]
     },
     "metadata": {},
     "output_type": "display_data"
    }
   ],
   "source": [
    "plt.ylabel('Nombre de joueurs')\n",
    "plt.xlabel('Classes')\n",
    "plt.hist([5000 , 2000 , 10000 ] )\n",
    "plt.axis([-2 , 2 , 0 , 10000 ])\n",
    "\n",
    "x  = list ( dataset.class_indexes.keys() )\n",
    "y  = [ len(dataset.class_indexes[key]) for key in dataset.class_indexes ]\n",
    "\n",
    "LABELS = [\"Lent\" ,\"Moyen\",  \"Rapide\" ]\n",
    "\n",
    "plt.bar(x, y , align='center')\n",
    "plt.xticks(x, LABELS )\n",
    "plt.show()"
   ]
  },
  {
   "cell_type": "markdown",
   "metadata": {},
   "source": [
    "#### Figure 2-2"
   ]
  },
  {
   "cell_type": "code",
   "execution_count": 22,
   "metadata": {},
   "outputs": [
    {
     "data": {
      "image/png": "[encoded data removed]",
      "text/plain": [
       "<matplotlib.figure.Figure at 0x7fd5633f8208>"
      ]
     },
     "metadata": {},
     "output_type": "display_data"
    }
   ],
   "source": [
    "labels = 'Lente', 'Moyenne', 'Rapide'\n",
    "sizes = y\n",
    "colors = ['yellowgreen', 'gold', 'tomato']\n",
    "\n",
    "plt.pie(sizes, labels=labels, colors=colors, \n",
    "        autopct='%1.1f%%', shadow=True, startangle=90)\n",
    "\n",
    "plt.axis('equal')\n",
    "plt.show()"
   ]
  },
  {
   "cell_type": "markdown",
   "metadata": {},
   "source": [
    "#### Figure 3"
   ]
  },
  {
   "cell_type": "code",
   "execution_count": 8,
   "metadata": {},
   "outputs": [
    {
     "data": {
      "image/png": "[encoded data removed]",
      "text/plain": [
       "<matplotlib.figure.Figure at 0x7efc65291630>"
      ]
     },
     "metadata": {},
     "output_type": "display_data"
    }
   ],
   "source": [
    "df_w = df[['weight','acceleration']].groupby('weight' , as_index=False).mean()\n",
    "matrix = df_w.as_matrix()\n",
    "poids = matrix[:,0]\n",
    "accelerations = matrix[:,1]\n",
    "plt.plot( poids , accelerations ,'r' )\n",
    "plt.title(\"Corrélation entre le poids des joueurs et leur accélération \")\n",
    "plt.legend(('acceleration rate',),loc=\"lower left\") # why is this not working\n",
    "plt.show()"
   ]
  },
  {
   "cell_type": "markdown",
   "metadata": {},
   "source": [
    "#### Figure 4"
   ]
  },
  {
   "cell_type": "code",
   "execution_count": 9,
   "metadata": {},
   "outputs": [
    {
     "data": {
      "image/png": "[encoded data removed]",
      "text/plain": [
       "<matplotlib.figure.Figure at 0x7efc65266048>"
      ]
     },
     "metadata": {},
     "output_type": "display_data"
    }
   ],
   "source": [
    "df_h = df[['height','acceleration']].groupby('height' , as_index=False).mean()\n",
    "matrix = df_h.as_matrix()\n",
    "poids = matrix[:,0]\n",
    "accelerations = matrix[:,1]\n",
    "plt.plot( poids , accelerations ,'r' )\n",
    "plt.title(\"Corrélation entre le poids des joueurs et leur accélération \")\n",
    "plt.legend(('acceleration rate',),loc=\"lower left\") # why is this not working\n",
    "plt.show()"
   ]
  },
  {
   "cell_type": "markdown",
   "metadata": {},
   "source": [
    "##### Apprentissage"
   ]
  },
  {
   "cell_type": "code",
   "execution_count": 6,
   "metadata": {
    "collapsed": true
   },
   "outputs": [],
   "source": [
    "TrainSet , TestSet = Train_Test_Split (dataset , 0.8 )\n",
    "knn=KNN( input_dimensions , 10 )\n",
    "knn.train(TrainSet)"
   ]
  },
  {
   "cell_type": "code",
   "execution_count": 11,
   "metadata": {},
   "outputs": [
    {
     "data": {
      "text/html": [
       "<div>\n",
       "<style>\n",
       "    .dataframe thead tr:only-child th {\n",
       "        text-align: right;\n",
       "    }\n",
       "\n",
       "    .dataframe thead th {\n",
       "        text-align: left;\n",
       "    }\n",
       "\n",
       "    .dataframe tbody tr th {\n",
       "        vertical-align: top;\n",
       "    }\n",
       "</style>\n",
       "<table border=\"1\" class=\"dataframe\">\n",
       "  <thead>\n",
       "    <tr style=\"text-align: right;\">\n",
       "      <th></th>\n",
       "      <th>height</th>\n",
       "      <th>weight</th>\n",
       "      <th>acceleration</th>\n",
       "    </tr>\n",
       "  </thead>\n",
       "  <tbody>\n",
       "    <tr>\n",
       "      <th>0</th>\n",
       "      <td>182.88</td>\n",
       "      <td>187</td>\n",
       "      <td>60.000000</td>\n",
       "    </tr>\n",
       "    <tr>\n",
       "      <th>1</th>\n",
       "      <td>170.18</td>\n",
       "      <td>146</td>\n",
       "      <td>76.000000</td>\n",
       "    </tr>\n",
       "    <tr>\n",
       "      <th>2</th>\n",
       "      <td>170.18</td>\n",
       "      <td>163</td>\n",
       "      <td>75.538462</td>\n",
       "    </tr>\n",
       "    <tr>\n",
       "      <th>3</th>\n",
       "      <td>182.88</td>\n",
       "      <td>198</td>\n",
       "      <td>50.217391</td>\n",
       "    </tr>\n",
       "    <tr>\n",
       "      <th>4</th>\n",
       "      <td>182.88</td>\n",
       "      <td>154</td>\n",
       "      <td>51.120000</td>\n",
       "    </tr>\n",
       "  </tbody>\n",
       "</table>\n",
       "</div>"
      ],
      "text/plain": [
       "   height  weight  acceleration\n",
       "0  182.88     187     60.000000\n",
       "1  170.18     146     76.000000\n",
       "2  170.18     163     75.538462\n",
       "3  182.88     198     50.217391\n",
       "4  182.88     154     51.120000"
      ]
     },
     "execution_count": 11,
     "metadata": {},
     "output_type": "execute_result"
    }
   ],
   "source": [
    "df.head(5)"
   ]
  },
  {
   "cell_type": "code",
   "execution_count": 13,
   "metadata": {},
   "outputs": [
    {
     "name": "stdout",
     "output_type": "stream",
     "text": [
      "for k =  1  The accuracy is :  26.47989154993222\n",
      "for k =  2  The accuracy is :  26.47989154993222\n",
      "for k =  3  The accuracy is :  26.47989154993222\n",
      "for k =  4  The accuracy is :  26.47989154993222\n",
      "for k =  5  The accuracy is :  26.47989154993222\n",
      "for k =  6  The accuracy is :  26.47989154993222\n",
      "for k =  7  The accuracy is :  26.47989154993222\n",
      "for k =  8  The accuracy is :  26.47989154993222\n",
      "for k =  9  The accuracy is :  26.47989154993222\n",
      "for k =  10  The accuracy is :  26.47989154993222\n",
      "for k =  11  The accuracy is :  26.47989154993222\n",
      "for k =  12  The accuracy is :  26.47989154993222\n",
      "for k =  13  The accuracy is :  26.47989154993222\n",
      "for k =  14  The accuracy is :  26.47989154993222\n",
      "for k =  15  The accuracy is :  26.47989154993222\n",
      "for k =  16  The accuracy is :  26.47989154993222\n",
      "for k =  17  The accuracy is :  26.47989154993222\n",
      "for k =  18  The accuracy is :  26.47989154993222\n",
      "for k =  19  The accuracy is :  26.47989154993222\n",
      "for k =  20  The accuracy is :  26.47989154993222\n",
      "for k =  21  The accuracy is :  26.47989154993222\n",
      "for k =  22  The accuracy is :  26.47989154993222\n",
      "for k =  23  The accuracy is :  26.47989154993222\n",
      "for k =  24  The accuracy is :  26.47989154993222\n",
      "for k =  25  The accuracy is :  26.47989154993222\n",
      "for k =  26  The accuracy is :  26.47989154993222\n",
      "for k =  27  The accuracy is :  26.47989154993222\n",
      "for k =  28  The accuracy is :  26.47989154993222\n",
      "for k =  29  The accuracy is :  26.47989154993222\n",
      "for k =  30  The accuracy is :  26.47989154993222\n",
      "for k =  31  The accuracy is :  26.47989154993222\n",
      "for k =  32  The accuracy is :  26.47989154993222\n",
      "for k =  33  The accuracy is :  26.47989154993222\n",
      "for k =  34  The accuracy is :  26.47989154993222\n",
      "for k =  35  The accuracy is :  26.47989154993222\n",
      "for k =  36  The accuracy is :  26.47989154993222\n",
      "for k =  37  The accuracy is :  26.47989154993222\n",
      "for k =  38  The accuracy is :  26.47989154993222\n",
      "for k =  39  The accuracy is :  26.47989154993222\n",
      "for k =  40  The accuracy is :  26.47989154993222\n",
      "for k =  41  The accuracy is :  26.47989154993222\n",
      "for k =  42  The accuracy is :  26.47989154993222\n",
      "for k =  43  The accuracy is :  26.47989154993222\n",
      "for k =  44  The accuracy is :  26.47989154993222\n",
      "for k =  45  The accuracy is :  26.47989154993222\n",
      "for k =  46  The accuracy is :  26.47989154993222\n",
      "for k =  47  The accuracy is :  26.47989154993222\n",
      "for k =  48  The accuracy is :  26.47989154993222\n",
      "for k =  49  The accuracy is :  26.47989154993222\n"
     ]
    },
    {
     "data": {
      "image/png": "[encoded data removed]",
      "text/plain": [
       "<matplotlib.figure.Figure at 0x7efc65100ba8>"
      ]
     },
     "metadata": {},
     "output_type": "display_data"
    }
   ],
   "source": [
    "k_list = list()\n",
    "accuracy_list = list()\n",
    "\n",
    "\n",
    "for k in range (1,50):\n",
    "    k_list.append(k)\n",
    "    new_knn = KNN( input_dimension , k )\n",
    "    new_knn.train ( trainSet )\n",
    "    acc = new_knn.accuracy(testSet)\n",
    "    accuracy_list.append(acc)\n",
    "    print (\"for k = \",k,\" The accuracy is : \", acc  )\n",
    "    \n",
    "plt.plot( k_list ,accuracy_list )\n",
    "plt.show()"
   ]
  },
  {
   "cell_type": "markdown",
   "metadata": {},
   "source": [
    "##### Tentative de Classification Binaire"
   ]
  },
  {
   "cell_type": "markdown",
   "metadata": {},
   "source": [
    "On va essayer de tester avec une classification binaire  : \n",
    "- Mauvais = -1 ( Mauvaise performance  \"accélération < 70\"  ) \n",
    "- Bon = +1  Sinon"
   ]
  },
  {
   "cell_type": "code",
   "execution_count": 23,
   "metadata": {
    "collapsed": true
   },
   "outputs": [],
   "source": [
    "def label_bin( data ):\n",
    "    if ( data < 70 ) : return -1 \n",
    "    return +1\n",
    "\n",
    "class KNN_binaire (KNN):\n",
    "    #Permet de calculer la prediction sur x => renvoie un score\n",
    "    def predict(self, x):\n",
    "        distances =[]\n",
    "        for i in range (self.model.size()):\n",
    "            #Distance Euclédienne fait par moi même\n",
    "            # np.sqrt(( self.model.getX(i)[0] -  x[0] )**2  +  ( self.model.getX(i)[1] - x[1] )**2 )\n",
    "            #Pour des Dimensions énormes faut penser a utiliser une fonction  prédéfinie Ex : np.linalg.norm\n",
    "            distances.append( np.linalg.norm(self.model.getX(i)-x) ) \n",
    "        #Sort distances\n",
    "        distances = np.argsort(np.array(distances)) \n",
    "        S = 0 \n",
    "        for i in range(self.k):\n",
    "            #Pas la peine de faire la moyenne\n",
    "            S = S + self.model.getY(distances[i])\n",
    "        if ( S < 0 ) : return -1\n",
    "        return +1\n",
    "    \n",
    "def convert_df_to_ls( df , data_cols_count ):\n",
    "    matrix = df.as_matrix()\n",
    "    ls = LabeledSet_binaire( data_cols_count )\n",
    "    for row in matrix :\n",
    "        ls.addExample ( row[:data_cols_count] , label_bin (row[data_cols_count]) )\n",
    "    return ls\n"
   ]
  },
  {
   "cell_type": "code",
   "execution_count": 27,
   "metadata": {
    "collapsed": true
   },
   "outputs": [],
   "source": [
    "input_dimensions = 2\n",
    "dataset_bin = convert_df_to_ls ( df ,  input_dimensions )\n",
    "\n",
    "TrainSet , TestSet = Train_Test_Split (dataset_bin , 0.8 )\n",
    "knn=KNN_binaire( input_dimensions , 10 )\n",
    "knn.train(TrainSet)"
   ]
  },
  {
   "cell_type": "code",
   "execution_count": 28,
   "metadata": {},
   "outputs": [
    {
     "name": "stdout",
     "output_type": "stream",
     "text": [
      "accuracy is :  67.96204247627655\n"
     ]
    }
   ],
   "source": [
    "print (\"accuracy is : \",knn.accuracy(TestSet))"
   ]
  },
  {
   "cell_type": "markdown",
   "metadata": {},
   "source": [
    "#### Test avec un arbre de décision"
   ]
  },
  {
   "cell_type": "code",
   "execution_count": 8,
   "metadata": {
    "collapsed": true
   },
   "outputs": [],
   "source": [
    "import math\n",
    "def classe_majoritaire(labeledSet):\n",
    "    S = 0 \n",
    "    for i in range(labeledSet.size()):\n",
    "        S += labeledSet.getY(i)\n",
    "    if ( S < 0 ) : \n",
    "        return -1 \n",
    "    return +1\n",
    "\n",
    "def shannon(P):\n",
    "    if ( len(P) == 1 ) :\n",
    "        return 0\n",
    "    Sum = 0 \n",
    "    for pi in P :\n",
    "        if ( pi != 0):\n",
    "               Sum += pi*(math.log(pi,len(P)))\n",
    "    return -Sum\n",
    "\n",
    "\n",
    "#Fonction générale  elle se limite pas à la classification binaire\n",
    "def entropie(LabeledSet):\n",
    "    #Calculer la frequence d apparition de chaque classe\n",
    "    dictFreq = dict() \n",
    "    for i in range (LabeledSet.size()):\n",
    "        #Récupère le Label \n",
    "        classe = LabeledSet.getY(i)\n",
    "        #Si la classe existe deja  on incremente Sinon on la crée \n",
    "        if ( classe in dictFreq ) : \n",
    "            dictFreq[classe] += 1\n",
    "        else :\n",
    "            dictFreq[classe] = 1\n",
    "    #transformer la frequence de chaque classe en probabilité  en divisant sur le nbr total\n",
    "    for i in dictFreq :\n",
    "        #Python division float ne marche pas automatiquement\n",
    "        dictFreq[i] = dictFreq[i] *1.0/ LabeledSet.size()\n",
    "    return (shannon(dictFreq.values()))\n",
    "\n",
    "def discretise(LSet, col):\n",
    "    \"\"\" LabelledSet * int -> tuple[float, float]\n",
    "        col est le numéro de colonne sur X à discrétiser\n",
    "        rend la valeur de coupure qui minimise l'entropie ainsi que son entropie.\n",
    "    \"\"\"\n",
    "    # initialisation:\n",
    "    min_entropie = 1.1  # on met à une valeur max car on veut minimiser\n",
    "    min_seuil = 0.0     \n",
    "    # trie des valeurs:\n",
    "    ind= np.argsort(LSet.x,axis=0)\n",
    "    \n",
    "    # calcul des distributions des classes pour E1 et E2:\n",
    "    inf_plus  = 0               # nombre de +1 dans E1\n",
    "    inf_moins = 0               # nombre de -1 dans E1\n",
    "    sup_plus  = 0               # nombre de +1 dans E2\n",
    "    sup_moins = 0               # nombre de -1 dans E2       \n",
    "    # remarque: au départ on considère que E1 est vide et donc E2 correspond à E. \n",
    "    # Ainsi inf_plus et inf_moins valent 0. Il reste à calculer sup_plus et sup_moins \n",
    "    # dans E.\n",
    "    for j in range(0,LSet.size()):\n",
    "        if (LSet.getY(j) == -1):\n",
    "            sup_moins += 1\n",
    "        else:\n",
    "            sup_plus += 1\n",
    "    nb_total = (sup_plus + sup_moins) # nombre d'exemples total dans E\n",
    "    \n",
    "    # parcours pour trouver le meilleur seuil:\n",
    "    for i in range(len(LSet.x)-1):\n",
    "        v_ind_i = ind[i]   # vecteur d'indices\n",
    "        courant = LSet.getX(v_ind_i[col])[col]\n",
    "        lookahead = LSet.getX(ind[i+1][col])[col]\n",
    "        val_seuil = (courant + lookahead) / 2.0;\n",
    "        # M-A-J de la distrib. des classes:\n",
    "        # pour réduire les traitements: on retire un exemple de E2 et on le place\n",
    "        # dans E1, c'est ainsi que l'on déplace donc le seuil de coupure.\n",
    "        if LSet.getY(ind[i][col]) == -1:\n",
    "            inf_moins += 1\n",
    "            sup_moins -= 1\n",
    "        else:\n",
    "            inf_plus += 1\n",
    "            sup_plus -= 1\n",
    "        # calcul de la distribution des classes de chaque côté du seuil:\n",
    "        nb_inf = (inf_moins + inf_plus)*1.0     # rem: on en fait un float pour éviter\n",
    "        nb_sup = (sup_moins + sup_plus)*1.0     # que ce soit une division entière.\n",
    "        # calcul de l'entropie de la coupure\n",
    "        val_entropie_inf = shannon([inf_moins / nb_inf, inf_plus  / nb_inf])\n",
    "        val_entropie_sup = shannon([sup_moins / nb_sup, sup_plus  / nb_sup])\n",
    "        val_entropie = (nb_inf / nb_total) * val_entropie_inf + (nb_sup / nb_total) * val_entropie_sup\n",
    "        # si cette coupure minimise l'entropie, on mémorise ce seuil et son entropie:\n",
    "        if (min_entropie > val_entropie):\n",
    "            min_entropie = val_entropie\n",
    "            min_seuil = val_seuil\n",
    "    return (min_seuil, min_entropie)\n",
    "\n",
    "def divise(LSet,att,seuil):\n",
    "    set1 = LabeledSet(LSet.getInputDimension)\n",
    "    set2 = LabeledSet(LSet.getInputDimension)\n",
    "    for i in range (LSet.size()):\n",
    "        if ( LSet.getX(i)[att] < seuil ) :\n",
    "            set1.addExample ( LSet.getX(i) , LSet.getY(i) )\n",
    "        else :\n",
    "            set2.addExample ( LSet.getX(i) , LSet.getY(i) )\n",
    "    return (set1,set2)\n",
    "\n",
    "\n",
    "class ArbreBinaire:\n",
    "    def __init__(self):\n",
    "        self.attribut = None   # numéro de l'attribut\n",
    "        self.seuil = None\n",
    "        self.inferieur = None # ArbreBinaire Gauche (valeurs <= au seuil)\n",
    "        self.superieur = None # ArbreBinaire Gauche (valeurs > au seuil)\n",
    "        self.classe = None # Classe si c'est une feuille: -1 ou +1\n",
    "        \n",
    "    def est_feuille(self):\n",
    "        \"\"\" rend True si l'arbre est une feuille \"\"\"\n",
    "        return self.seuil == None\n",
    "    \n",
    "    def ajoute_fils(self,ABinf,ABsup,att,seuil):\n",
    "        \"\"\" ABinf, ABsup: 2 arbres binaires\n",
    "            att: numéro d'attribut\n",
    "            seuil: valeur de seuil\n",
    "        \"\"\"\n",
    "        self.attribut = att\n",
    "        self.seuil = seuil\n",
    "        self.inferieur = ABinf\n",
    "        self.superieur = ABsup\n",
    "    \n",
    "    def ajoute_feuille(self,classe):\n",
    "        \"\"\" classe: -1 ou + 1\n",
    "        \"\"\"\n",
    "        self.classe = classe\n",
    "        \n",
    "    def classifie(self,exemple):\n",
    "        \"\"\" exemple : numpy.array\n",
    "            rend la classe de l'exemple: +1 ou -1\n",
    "        \"\"\"\n",
    "        if self.est_feuille():\n",
    "            return self.classe\n",
    "        if exemple[self.attribut] <= self.seuil:\n",
    "            return self.inferieur.classifie(exemple)\n",
    "        return self.superieur.classifie(exemple)\n",
    "    \n",
    "    def to_graph(self, g, prefixe='A'):\n",
    "        \"\"\" construit une représentation de l'arbre pour pouvoir\n",
    "            l'afficher\n",
    "        \"\"\"\n",
    "        if self.est_feuille():\n",
    "            g.node(prefixe,str(self.classe),shape='box')\n",
    "        else:\n",
    "            g.node(prefixe, str(self.attribut))\n",
    "            self.inferieur.to_graph(g,prefixe+\"g\")\n",
    "            self.superieur.to_graph(g,prefixe+\"d\")\n",
    "            g.edge(prefixe,prefixe+\"g\", '<='+ str(self.seuil))\n",
    "            g.edge(prefixe,prefixe+\"d\", '>'+ str(self.seuil))\n",
    "        \n",
    "        return g\n",
    "    \n",
    "    \n",
    "\n",
    "\n",
    "def construit_AD(LSet,epsilon):\n",
    "    un_arbre= ArbreBinaire()\n",
    "    if ( entropie(LSet) <= epsilon ) : \n",
    "        un_arbre.ajoute_feuille(classe_majoritaire(LSet))\n",
    "    else :\n",
    "        entropie_min = 1.1\n",
    "        selected_attr = -1 \n",
    "        seuilMin = 0\n",
    "        ## tous les descritises des attributs \n",
    "        nbr_attrs = len(LSet.getX(0))\n",
    "        \n",
    "        for attr in range(nbr_attrs):\n",
    "            seuil , entrop  = discretise(LSet,attr)\n",
    "            if ( entrop < entropie_min ) :\n",
    "                entropie_min = entrop \n",
    "                selected_attr = attr\n",
    "                seuilMin = seuil\n",
    "        \n",
    "        set1 , set2 = divise(LSet,selected_attr,seuilMin)\n",
    "        un_arbre.ajoute_fils( construit_AD(set1,epsilon)  ,  construit_AD(set2,epsilon)  , selected_attr  ,seuilMin )\n",
    "        \n",
    "    return un_arbre\n",
    "\n",
    "class ArbreDecision(Classifier):\n",
    "    # Constructeur\n",
    "    def __init__(self,epsilon):\n",
    "        # valeur seuil d'entropie pour arrêter la construction\n",
    "        self.epsilon= epsilon\n",
    "        self.racine = None\n",
    "    \n",
    "    # Permet de calculer la prediction sur x => renvoie un score\n",
    "    def predict(self,x):\n",
    "        # classification de l'exemple x avec l'arbre de décision\n",
    "        # on rend 0 (classe -1) ou 1 (classe 1)\n",
    "        classe = self.racine.classifie(x)\n",
    "        if (classe == 1):\n",
    "            return(1)\n",
    "        else:\n",
    "            return(-1)\n",
    "    \n",
    "    # Permet d'entrainer le modele sur un ensemble de données\n",
    "    def train(self,set):\n",
    "        # construction de l'arbre de décision \n",
    "        self.set=set\n",
    "        self.racine = construit_AD(set,self.epsilon)\n",
    "\n",
    "    # Permet d'afficher l'arbre\n",
    "    def plot(self):\n",
    "        gtree = gv.Digraph(format='png')\n",
    "        return self.racine.to_graph(gtree)\n",
    "    #Permet de calculer la qualité du système \n",
    "    def accuracy(self, dataset):\n",
    "        l=[]\n",
    "        casok=0\n",
    "        for i in range(dataset.size()):\n",
    "            if(self.predict(dataset.getX(i))==dataset.getY(i)):\n",
    "                casok+=1\n",
    "        return casok/float(dataset.size())\n"
   ]
  },
  {
   "cell_type": "code",
   "execution_count": null,
   "metadata": {
    "collapsed": true
   },
   "outputs": [],
   "source": [
    "# un exemple d'utilisation:\n",
    "ad=ArbreDecision(0.0)       \n",
    "ad.train(TrainSet)              \n",
    "\n",
    "print(\"accuracy:\", ad.accuracy(TestSet))    \n",
    "\n",
    "#test de l'affichage \n",
    "ad.plot()"
   ]
  },
  {
   "cell_type": "code",
   "execution_count": 27,
   "metadata": {},
   "outputs": [
    {
     "data": {
      "text/plain": [
       "0"
      ]
     },
     "execution_count": 27,
     "metadata": {},
     "output_type": "execute_result"
    }
   ],
   "source": [
    "TrainSet , TestSet = Train_Test_Split (dataset , 0.8 )\n",
    "TestSet = Train_Test_Split (TestSet , 0.02 )[1]\n",
    "knn=KNN( input_dimensions , 10 )\n",
    "knn.train(TrainSet)\n",
    "knn.predict([180,180])"
   ]
  },
  {
   "cell_type": "markdown",
   "metadata": {},
   "source": [
    "####  <span style=\"color:red\">RecursionError: maximum recursion depth exceeded while calling a Python object</span>"
   ]
  },
  {
   "cell_type": "markdown",
   "metadata": {},
   "source": [
    "#### Test avec une forêt aléatoire  ( Random Forest ) prédéfinie  de sklearn"
   ]
  },
  {
   "cell_type": "code",
   "execution_count": 80,
   "metadata": {},
   "outputs": [
    {
     "data": {
      "text/html": [
       "<div>\n",
       "<style>\n",
       "    .dataframe thead tr:only-child th {\n",
       "        text-align: right;\n",
       "    }\n",
       "\n",
       "    .dataframe thead th {\n",
       "        text-align: left;\n",
       "    }\n",
       "\n",
       "    .dataframe tbody tr th {\n",
       "        vertical-align: top;\n",
       "    }\n",
       "</style>\n",
       "<table border=\"1\" class=\"dataframe\">\n",
       "  <thead>\n",
       "    <tr style=\"text-align: right;\">\n",
       "      <th></th>\n",
       "      <th>height</th>\n",
       "      <th>weight</th>\n",
       "      <th>acceleration</th>\n",
       "    </tr>\n",
       "  </thead>\n",
       "  <tbody>\n",
       "    <tr>\n",
       "      <th>0</th>\n",
       "      <td>182.88</td>\n",
       "      <td>187</td>\n",
       "      <td>low</td>\n",
       "    </tr>\n",
       "    <tr>\n",
       "      <th>1</th>\n",
       "      <td>170.18</td>\n",
       "      <td>146</td>\n",
       "      <td>medium</td>\n",
       "    </tr>\n",
       "    <tr>\n",
       "      <th>2</th>\n",
       "      <td>170.18</td>\n",
       "      <td>163</td>\n",
       "      <td>medium</td>\n",
       "    </tr>\n",
       "    <tr>\n",
       "      <th>3</th>\n",
       "      <td>182.88</td>\n",
       "      <td>198</td>\n",
       "      <td>low</td>\n",
       "    </tr>\n",
       "    <tr>\n",
       "      <th>4</th>\n",
       "      <td>182.88</td>\n",
       "      <td>154</td>\n",
       "      <td>low</td>\n",
       "    </tr>\n",
       "  </tbody>\n",
       "</table>\n",
       "</div>"
      ],
      "text/plain": [
       "   height  weight acceleration\n",
       "0  182.88     187          low\n",
       "1  170.18     146       medium\n",
       "2  170.18     163       medium\n",
       "3  182.88     198          low\n",
       "4  182.88     154          low"
      ]
     },
     "execution_count": 80,
     "metadata": {},
     "output_type": "execute_result"
    }
   ],
   "source": [
    "#Préparation des données\n",
    "df_test = df.copy(deep=True)\n",
    "df_test['acceleration'] = df_test['acceleration'].apply( lambda x: 'low'if x<65 else ('high' if x>=80 else 'medium') )\n",
    "df_test.head(5)"
   ]
  },
  {
   "cell_type": "code",
   "execution_count": 81,
   "metadata": {},
   "outputs": [
    {
     "data": {
      "text/html": [
       "<div>\n",
       "<style>\n",
       "    .dataframe thead tr:only-child th {\n",
       "        text-align: right;\n",
       "    }\n",
       "\n",
       "    .dataframe thead th {\n",
       "        text-align: left;\n",
       "    }\n",
       "\n",
       "    .dataframe tbody tr th {\n",
       "        vertical-align: top;\n",
       "    }\n",
       "</style>\n",
       "<table border=\"1\" class=\"dataframe\">\n",
       "  <thead>\n",
       "    <tr style=\"text-align: right;\">\n",
       "      <th></th>\n",
       "      <th>height</th>\n",
       "      <th>weight</th>\n",
       "      <th>acceleration</th>\n",
       "      <th>is_train</th>\n",
       "    </tr>\n",
       "  </thead>\n",
       "  <tbody>\n",
       "    <tr>\n",
       "      <th>0</th>\n",
       "      <td>182.88</td>\n",
       "      <td>187</td>\n",
       "      <td>low</td>\n",
       "      <td>True</td>\n",
       "    </tr>\n",
       "    <tr>\n",
       "      <th>1</th>\n",
       "      <td>170.18</td>\n",
       "      <td>146</td>\n",
       "      <td>medium</td>\n",
       "      <td>True</td>\n",
       "    </tr>\n",
       "    <tr>\n",
       "      <th>2</th>\n",
       "      <td>170.18</td>\n",
       "      <td>163</td>\n",
       "      <td>medium</td>\n",
       "      <td>True</td>\n",
       "    </tr>\n",
       "    <tr>\n",
       "      <th>3</th>\n",
       "      <td>182.88</td>\n",
       "      <td>198</td>\n",
       "      <td>low</td>\n",
       "      <td>False</td>\n",
       "    </tr>\n",
       "    <tr>\n",
       "      <th>4</th>\n",
       "      <td>182.88</td>\n",
       "      <td>154</td>\n",
       "      <td>low</td>\n",
       "      <td>True</td>\n",
       "    </tr>\n",
       "  </tbody>\n",
       "</table>\n",
       "</div>"
      ],
      "text/plain": [
       "   height  weight acceleration  is_train\n",
       "0  182.88     187          low      True\n",
       "1  170.18     146       medium      True\n",
       "2  170.18     163       medium      True\n",
       "3  182.88     198          low     False\n",
       "4  182.88     154          low      True"
      ]
     },
     "execution_count": 81,
     "metadata": {},
     "output_type": "execute_result"
    }
   ],
   "source": [
    "df_test['is_train'] = np.random.uniform(0, 1, len(df)) <= .75\n",
    "df_test.head()"
   ]
  },
  {
   "cell_type": "code",
   "execution_count": 82,
   "metadata": {},
   "outputs": [
    {
     "name": "stdout",
     "output_type": "stream",
     "text": [
      "le nombre d exemples pour le Training : 8376\n",
      "le nombre d exemples pour le Test : 2684\n"
     ]
    },
    {
     "data": {
      "text/plain": [
       "array([0, 1, 1, ..., 1, 1, 0])"
      ]
     },
     "execution_count": 82,
     "metadata": {},
     "output_type": "execute_result"
    }
   ],
   "source": [
    "train, test = df_test[df_test['is_train']==True], df_test[df_test['is_train']==False]\n",
    "print('le nombre d exemples pour le Training :', len(train))\n",
    "print('le nombre d exemples pour le Test :',len(test))\n",
    "features = df.columns[:2]\n",
    "y = pd.factorize(train['acceleration'])[0]\n",
    "y"
   ]
  },
  {
   "cell_type": "markdown",
   "metadata": {},
   "source": [
    "###### Remarque :\n",
    "- le nombre d'arbres par défaut , il est à 10 \n",
    "- le nombre de processus d'executions est à 2 ( Programmation concurrente ) pour un meilleur temps d'execution \n",
    "- random_state : par rapport au générateur de nombre aléatoire qui utilise le seed pour faire ça , on l'initialise à 0 de préférence "
   ]
  },
  {
   "cell_type": "code",
   "execution_count": 83,
   "metadata": {},
   "outputs": [
    {
     "data": {
      "text/plain": [
       "RandomForestClassifier(bootstrap=True, class_weight=None, criterion='gini',\n",
       "            max_depth=None, max_features='auto', max_leaf_nodes=None,\n",
       "            min_impurity_decrease=0.0, min_impurity_split=None,\n",
       "            min_samples_leaf=1, min_samples_split=2,\n",
       "            min_weight_fraction_leaf=0.0, n_estimators=10, n_jobs=2,\n",
       "            oob_score=False, random_state=0, verbose=0, warm_start=False)"
      ]
     },
     "execution_count": 83,
     "metadata": {},
     "output_type": "execute_result"
    }
   ],
   "source": [
    "#Training\n",
    "from sklearn.ensemble import RandomForestClassifier\n",
    "clf = RandomForestClassifier(n_jobs=2, random_state=0)\n",
    "clf.fit(train[features], y)"
   ]
  },
  {
   "cell_type": "code",
   "execution_count": 86,
   "metadata": {},
   "outputs": [
    {
     "name": "stdout",
     "output_type": "stream",
     "text": [
      "La prediction avec une Random Forest est avec une accuracy de  64.34426229508196\n"
     ]
    }
   ],
   "source": [
    "from sklearn.metrics import accuracy_score\n",
    "\n",
    "preds = clf.predict(test[features])\n",
    "trues  = pd.factorize(test['acceleration'])[0]\n",
    "print ( 'La prediction avec une Random Forest est avec une accuracy de ',accuracy_score(trues,preds)*100.00  )"
   ]
  },
  {
   "cell_type": "code",
   "execution_count": 93,
   "metadata": {
    "collapsed": true
   },
   "outputs": [],
   "source": [
    "acc = list()\n",
    "for n in range ( 2 , 101 ) :\n",
    "    clf = RandomForestClassifier(n_estimators=n , n_jobs=2, random_state=0)\n",
    "    clf.fit(train[features], y)\n",
    "    preds = clf.predict(test[features])\n",
    "    trues  = pd.factorize(test['acceleration'])[0]\n",
    "    acc.append ( accuracy_score(trues,preds)*100.00  )"
   ]
  },
  {
   "cell_type": "code",
   "execution_count": 94,
   "metadata": {},
   "outputs": [
    {
     "data": {
      "image/png": "[encoded data removed]",
      "text/plain": [
       "<matplotlib.figure.Figure at 0x7fd5515ae860>"
      ]
     },
     "metadata": {},
     "output_type": "display_data"
    }
   ],
   "source": [
    "plt.plot( list(range(2,101)) , acc ,'r' )\n",
    "plt.title(\"le taux de prediction obtenu en augmentant la taille de la foret d'arbres de 2 a 100\")\n",
    "plt.legend('Accuracy' , loc='lower right')\n",
    "plt.axis([0, 102, 0, 105])\n",
    "plt.show()"
   ]
  },
  {
   "cell_type": "markdown",
   "metadata": {},
   "source": [
    "## Partie 5 - Résultats"
   ]
  },
  {
   "cell_type": "markdown",
   "metadata": {},
   "source": [
    "Les résultats qu'on a obtenus sont : \n",
    "##### A) Figures lièes aux données \n",
    "1) Dans la Figure 1 on voit clairement que les données sont très denses et proches  et on voit aussi qu'il y a une pseudo-séparation entre les 3 classes (Rapide = Rouge , Moyenne = Jaune , Lente = Verte) , les données ne sont pas très séparables  mais on garde quand même un espoir pour notre classifieur qu'il puisse prédire  avec une accuracy qui dépasse les 50% . \n",
    "\n",
    "2) Dans la Figure 2-1 et 2-2 , on voulait voir le nombre de joueurs  par classe , pour la classe moyenne et la classe rapide on s'attendait à ces résultats c-a-d que la classe moyenne soit majoritaire et la classe rapide soit minoritaire  mais pour la classe lente on s'attendait pas vraiment à ça , et les deux figures montrent qu'elle est toute proche de la classe moyenne avec 38.7 % des joueurs\n",
    "\n",
    "3) La figure 3 et la figure 4 , avaient les mêmes buts , c'était de chercher ou plutôt de confirmer l'intuition qu'il y ait une corrélation et un lien  entre la taille et l'accélération ( respectivement le poids et l'accélération ) ,  et effectivement les deux figures  montrent clairement  qu'il y a une forte corrélation disproportionnelle entre la taille ( respectivement le poids ) et l'accélération  c-a-d plus la  taille ( respectivement le poids ) est grande  plus l'accélération  est faible et vice versa \n",
    "\n",
    "##### B) Résultats et Figures liès à l'apprentissage \n",
    "4) KNN Ternaire : On voit que notre classifieur KNN ternaire ne nous a pas donné une accuracy plus de 50% , il est même très loin et il n'a pas dépassé les 27% quelque soit la valeur de K attribué , on constate aussi qu'il est resté à la même valeur d'accuracy pour 50 valeurs de K différentes , ce qui est décévant comme résultat .\n",
    "\n",
    "5) KNN Binaire : Dans ce cas là on divise les joueurs en deux classes bonne / Mauvaise  accélération  ( -1 , + 1 ) et on constate qu'il se comporte largement mieux et avec un K=10 on a obtenu une accuracy de 68%  ce qui n'est pas du tout négligeable\n",
    "\n",
    "6) Arbre de décision : En gardant la même classification binaire , on a essayé  de tester une arbre de décision pour voir ce que ça donne or on a obtenu une erreur liée au nombre d'appels  récursifs autorisé par python c-a-d que notre classifieur a dépassé les 999 appels récursifs imbriqués   et donc l'executions s'est arrêté .\n",
    "\n",
    "7) Forêt aléatoire de la librairie ' sklearn' : on arrive à la partie qui nous a donné le meilleur résultat et une meilleure accuracy  qui a atteint presque 65% en gardant une classification Ternaire , par contre on voit clairement  que même en augmentant le nombre d'arbres l'accuracy reste constante .\n",
    "   On a quand même réussit à dépasser les 50% d'accuracy et c'était notre objectif dès le départ "
   ]
  },
  {
   "cell_type": "markdown",
   "metadata": {},
   "source": [
    "###### Partie 6 - Analyse"
   ]
  },
  {
   "cell_type": "markdown",
   "metadata": {},
   "source": [
    "On arrive à la partie la plus importante de notre  problème c'est l'analyse des résultats  qu'on a obtenus .\n",
    "\n",
    "- Les données  sont très denses et très proches , et on parle aussi de joueurs de football donc si on a traité les données  des gens ordinaires qui s'entraînent pas régulièrement , il est clair qu\"on aura de meilleurs résultats sur ce problème  , or vu que les joueurs de football travaillent et s'entraînent pour améliorer leurs performances  donc on a eu beaucoup d'exemples qui ont fait l'exception à la règle des 3 classes tels que des joueurs qui sont moyen de ( taille,poids )  mais qui sont très lents ou très rapides , des joueurs qui sont grand de (taille,poids)  mais sont rapide  et ça justifie aussi l'augmentation soudaine dans l'accélération ( Figure 2-1 et 2-2 ) malgré le fait que la taille (respectivement poids) était grand .\n",
    "\n",
    "\n",
    "- par rapport aux  pourcentages de distribution entre les 3 catégories , plus précisémment le résultat étonnant qui dit que 38.7 % des joueurs on une faible accélération , donc c'est une information qu' on a pu extraire et qu'on savait pas.Il faut que les clubs de foot revoient ça et essayent de le corriger car c'est terrible comme information dans un sport ou on arrête pas de courrir  pendant 90 min , surtout sur le fait que la majorité des scores des matchs de football sont très liés à la vitesse et à l'accélération ( c'est un autre problème qu'on peut traîter ) car tout but dans le foot est causé par une erreur et le plus généralement les erreurs sont lié à la vitesse d'execution , accélération , réaction et inattention .\n",
    "\n",
    "\n",
    "- par rapport à la classification , globalement l'accuracy ne peut pas atteindre une valeur très elevée , le KNN prouve exactement le fait que les données sont très proches et denses et donc pour avoir une meilleure accuracy  il fallait peu être voir  les 500 ou 1000 voisins proches  car avec  un seul voisin  ou 50 voisins on obtenait généralement le même résultat vu la densité des données .\n",
    "\n",
    " Avec un seul arbre de décision on a pas pu aller loin car les appels récursifs s'enchainaient et vu la densité qu'on avait il était très difficile d'atteindre un niveau ou les données seraient bien séparables et donc on pouvait pas atteindre l'entropie minimale même avec une profondeur de 999 noeuds  . \n",
    " \n",
    " Notre meilleur résultat de classification on l'a obtenu avec les randomForests prédéfinies de sklearn , il est très bien codé et très optimal en temps d'execution pour des données massives et le résultat de 68% prouve qu'il y'a quand même une logique et une information à tirer de la taille et du poids  , il faut peu être construire un vecteur de données beaucoup plus informatif et riche , par exemple on rajoute l'âge de la personne , la league dont il joue ( car ça diffère la vitesse de jeu entre les leagues par exemple en angleterre les joueurs doivent être très rapides d'executions avec une vitesse énorme etc....  par rapport à l'italie ) et beaucoup d'autres paramètres  statistiques sur le joueur , qui nous permettent de mieux le classifier en Vitesse ( accélération , rapidité d'execution , reaction , sprint ) en mauvais , moyen et bon  et de maximiser l'accuracy . "
   ]
  }
 ],
 "metadata": {
  "kernelspec": {
   "display_name": "Python 3",
   "language": "python",
   "name": "python3"
  },
  "language_info": {
   "codemirror_mode": {
    "name": "ipython",
    "version": 3
   },
   "file_extension": ".py",
   "mimetype": "text/x-python",
   "name": "python",
   "nbconvert_exporter": "python",
   "pygments_lexer": "ipython3",
   "version": "3.6.3"
  }
 },
 "nbformat": 4,
 "nbformat_minor": 1
}
