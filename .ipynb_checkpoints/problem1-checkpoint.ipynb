{
 "cells": [
  {
   "cell_type": "markdown",
   "metadata": {},
   "source": [
    "## Abdelraouf KESKES\n",
    "\n",
    "## 2017 - 2018"
   ]
  },
  {
   "cell_type": "markdown",
   "metadata": {},
   "source": [
    "# First Machine learning Project !"
   ]
  },
  {
   "cell_type": "markdown",
   "metadata": {},
   "source": [
    "without any ado let s get started   : "
   ]
  },
  {
   "cell_type": "markdown",
   "metadata": {
    "collapsed": true
   },
   "source": [
    "## Part 1 - Problem Description"
   ]
  },
  {
   "cell_type": "markdown",
   "metadata": {},
   "source": [
    "\n",
    "In this notebook we will focus on a very important problem in the football world, it will consist of trying\n",
    "to find a link between the couple (Size, Weight) of a player and his (acceleration) because if we manage to design a general intelligent system to predict all the information related to speed (acceleration, speed in sprint, agility, reactions) with a very high prediction it can revolutionize the whole field of recruitment in the clubs and they will be able to see if this player is really suited to their tactics of game or not. In our case, we will be interested in the column (acceleration) for the moment, and we will consider this problem as a classification problem and not regression.\n",
    "The classification will be ternary as follows:\n",
    "- <65: slow <=> -1\n",
    "- [65.80 [: average <=> 0\n",
    "- [80,100]: fast <=> +1"
   ]
  },
  {
   "cell_type": "markdown",
   "metadata": {},
   "source": [
    "## Part 2 - Model"
   ]
  },
  {
   "cell_type": "markdown",
   "metadata": {},
   "source": [
    "In this supervised learning problem   in a first time we will opt for a KNN, and then we will test other classifiers in order to improve the accuracy.\n",
    "\n",
    "- **Advantages of KNN** :A multi-class classifier by definition and its learning is O (1) in terms of complexity ( instance based Model ) .\n",
    "- **Disadvantages of the KNN** : the complexity of the prediction is bad, it also contradicts a little the human reasoning which generally takes a long time to learn, but once it has learned well and understood, it will be able to answer with a very reasonable time even instantly \n",
    "\n",
    "In relation to the data we must group for each player its size, weight and acceleration that must be transformed into 3 classes later."
   ]
  },
  {
   "cell_type": "markdown",
   "metadata": {},
   "source": [
    "## Part 3 - Useful functions and libraries"
   ]
  },
  {
   "cell_type": "code",
   "execution_count": 3,
   "metadata": {
    "collapsed": true
   },
   "outputs": [],
   "source": [
    "########################################  librairies ###############################################\n",
    "import pandas as pd\n",
    "import numpy as np\n",
    "import matplotlib.pyplot as plt\n",
    "import matplotlib\n",
    "# Permet d'afficher les figures directement dans le notebook:\n",
    "%matplotlib inline"
   ]
  },
  {
   "cell_type": "code",
   "execution_count": 4,
   "metadata": {},
   "outputs": [],
   "source": [
    "######################   Extraction des données utiles  #############################################\n",
    "pd.set_option('display.max_columns', 500)\n",
    "pd.set_option('display.max_colwidth', 1000)\n",
    "\n",
    "df_player = pd.read_csv('../soccer/player.csv')\n",
    "df_playerAttrs = pd.read_csv('../soccer/playerattributes.csv'  )\n",
    "\n",
    "df_player = df_player[['player_api_id' , 'height' , 'weight']]\n",
    "df_playerAttrs  = df_playerAttrs[['player_api_id' , 'acceleration' ]].groupby('player_api_id' , as_index=False).mean()\n",
    "\n",
    "\n",
    "df = pd.merge(df_player, df_playerAttrs, on='player_api_id', how='inner' )\n",
    "df.drop('player_api_id', axis=1, inplace=True)"
   ]
  },
  {
   "cell_type": "code",
   "execution_count": 13,
   "metadata": {
    "collapsed": true
   },
   "outputs": [],
   "source": [
    "#######################################  Classes utiles #############################################\n",
    "class LabeledSet:  \n",
    "    \n",
    "    def __init__(self, input_dimension):\n",
    "        self.input_dimension = input_dimension\n",
    "        self.nb_examples = 0\n",
    "        # Pour faire un dataset de training et de test  correcte  \n",
    "        self.class_indexes = dict()\n",
    "    \n",
    "    def addExample(self,vector,label):\n",
    "        if (self.nb_examples == 0):\n",
    "            self.x = np.array([vector])\n",
    "            self.y = np.array([label])\n",
    "        else:\n",
    "            self.x = np.vstack((self.x, vector))\n",
    "            self.y = np.concatenate(   ( self.y  ,  np.array([label]) )   )\n",
    "            \n",
    "        #pour garder l'aspect général  quelque soit le nbr de classes on sauvgarde les indices car on en aura besoin\n",
    "        #pour plusieurs traitements  le plus important d entre eux est le split Train/Test\n",
    "        if ( label in self.class_indexes ):\n",
    "            self.class_indexes[label].append( self.nb_examples )\n",
    "        else :\n",
    "            self.class_indexes[label] = [  self.nb_examples ]\n",
    "            \n",
    "        self.nb_examples = self.nb_examples + 1\n",
    "    \n",
    "    #Renvoie la dimension de l'espace d'entrée\n",
    "    def getInputDimension(self):\n",
    "        return self.input_dimension\n",
    "    \n",
    "    #Renvoie le nombre d'exemples dans le set\n",
    "    def size(self):\n",
    "        return self.nb_examples\n",
    "    \n",
    "    #Renvoie la valeur de x_i\n",
    "    def getX(self, i):\n",
    "        return self.x[i]\n",
    "        \n",
    "    \n",
    "    #Renvouie la valeur de y_i\n",
    "    def getY(self, i):\n",
    "        return(self.y[i])\n",
    "    \n",
    "################################### Fonction utiles #######################################\n",
    "def plot2DSet(dataset):\n",
    "    from matplotlib.colors import ListedColormap\n",
    "    x=dataset.x[:,0]\n",
    "    y=dataset.x[:,1]\n",
    "    classes = dataset.y\n",
    "    cmap = ListedColormap([ 'green', 'yellow','red'])\n",
    "    plt.scatter(x, y, c=classes, label=classes,cmap=cmap)\n",
    "    plt.colorbar()\n",
    "    unique_classes = list(set(classes))\n",
    "    plt.table(cellText=[[-1], [0] , [+1]], loc='lower right',\n",
    "              colWidths=[0.2],rowColours=[ '#6bf441', '#f4df42','#ff6666'],\n",
    "             rowLabels=['Lent','Moyen','Rapide'],\n",
    "              colLabels=['classes'])\n",
    "    plt.ylabel('poids en pounds')\n",
    "    plt.xlabel('taille en cm')\n",
    "\n",
    "def label( data ):\n",
    "    if ( data < 65 ) : return -1 \n",
    "    if ( data >= 65 and data < 80 ) : return 0\n",
    "    if ( data >= 80 ) : return +1 \n",
    "    return 0\n",
    "\n",
    "def Train_Test_Split(dataset, training_percent  ):\n",
    "    \n",
    "    trainSet = LabeledSet (dataset.getInputDimension())\n",
    "    testSet  = LabeledSet (dataset.getInputDimension())\n",
    "    \n",
    "    for key in dataset.class_indexes : \n",
    "        \n",
    "        size = len ( dataset.class_indexes[key] ) \n",
    "        \n",
    "        train_sliced = dataset.class_indexes[key][0:int( training_percent * size )]\n",
    "        for index in train_sliced :\n",
    "            trainSet.addExample ( dataset.getX(index) , dataset.getY(index) ) \n",
    "            \n",
    "        test_sliced = dataset.class_indexes[key][int( training_percent * size ):]\n",
    "        for index in test_sliced :\n",
    "            testSet.addExample ( dataset.getX(index) , dataset.getY(index) )\n",
    "            \n",
    "    return trainSet , testSet\n",
    "\n",
    "def convert_df_to_ls( df , data_cols_count ):\n",
    "    matrix = df.as_matrix()\n",
    "    ls = LabeledSet( data_cols_count )\n",
    "    for row in matrix :\n",
    "        ls.addExample ( row[:data_cols_count] , label (row[data_cols_count]) )\n",
    "    return ls\n",
    "    \n",
    "    \n",
    "##################################### Classifieurs ######################################### \n",
    "class Classifier:\n",
    "    def __init__(self, input_dimension):\n",
    "        raise NotImplementedError(\"Please Implement this method\")\n",
    "    \n",
    "    \n",
    "    #Permet de calculer la prediction sur x => renvoie un score\n",
    "    def predict(self, x):\n",
    "        raise NotImplementedError(\"Please Implement this method\")\n",
    "\n",
    "    \n",
    "    #Permet d'entrainer le modele sur un ensemble de données\n",
    "    def train(self, labeledSet):\n",
    "        raise NotImplementedError(\"Please Implement this method\")\n",
    "    \n",
    "    #Permet de calculer la qualité du système \n",
    "    def accuracy(self, dataset):\n",
    "        S = 0\n",
    "        n = dataset.size()  \n",
    "        for i in range(n):\n",
    "            if ( self.predict (dataset.getX(i)) * dataset.getY(i) > 0 ) : \n",
    "                S += 1\n",
    "        return (S*100.00/n )\n",
    "\n",
    "class KNN(Classifier):\n",
    "   \n",
    "    def __init__(self, input_dimension , k ):\n",
    "        self.k = k \n",
    "        self.input_dimension = input_dimension\n",
    "        \n",
    "    #Permet de calculer la prediction sur x => renvoie un score\n",
    "    def predict(self, x):\n",
    "        distances =[]\n",
    "        for i in range (self.model.size()):\n",
    "            #Distance Euclédienne fait par moi même\n",
    "            # np.sqrt(( self.model.getX(i)[0] -  x[0] )**2  +  ( self.model.getX(i)[1] - x[1] )**2 )\n",
    "            #Pour des Dimensions énormes faut penser a utiliser une fonction  prédéfinie Ex : np.linalg.norm\n",
    "            distances.append( np.linalg.norm(self.model.getX(i)-x) ) \n",
    "        #Sort distances\n",
    "        distances = np.argsort(np.array(distances)) \n",
    "        S = 0 \n",
    "        for i in range(self.k):\n",
    "            #Pas la peine de faire la moyenne\n",
    "            S +=  self.model.getY(distances[i])\n",
    "        avg = S *1.0 / self.k\n",
    "        if ( avg < -0.33 ) : return -1 \n",
    "        if ( avg >= -0.33 and avg <= 0.33 ) : return 0\n",
    "        if ( avg > 0.33 ) : return +1 \n",
    "    \n",
    "        \n",
    "    #Permet d'entrainer le modèle sur un ensemble de données\n",
    "    def train(self, labeledSet):\n",
    "        self.model = labeledSet"
   ]
  },
  {
   "cell_type": "markdown",
   "metadata": {},
   "source": [
    "## Part 4 - Experimental Protocol"
   ]
  },
  {
   "cell_type": "markdown",
   "metadata": {},
   "source": [
    "Let s visualize the data , to figure out what s happening !"
   ]
  },
  {
   "cell_type": "code",
   "execution_count": 5,
   "metadata": {},
   "outputs": [
    {
     "data": {
      "text/html": [
       "<div>\n",
       "<style>\n",
       "    .dataframe thead tr:only-child th {\n",
       "        text-align: right;\n",
       "    }\n",
       "\n",
       "    .dataframe thead th {\n",
       "        text-align: left;\n",
       "    }\n",
       "\n",
       "    .dataframe tbody tr th {\n",
       "        vertical-align: top;\n",
       "    }\n",
       "</style>\n",
       "<table border=\"1\" class=\"dataframe\">\n",
       "  <thead>\n",
       "    <tr style=\"text-align: right;\">\n",
       "      <th></th>\n",
       "      <th>height</th>\n",
       "      <th>weight</th>\n",
       "      <th>acceleration</th>\n",
       "    </tr>\n",
       "  </thead>\n",
       "  <tbody>\n",
       "    <tr>\n",
       "      <th>0</th>\n",
       "      <td>182.88</td>\n",
       "      <td>187</td>\n",
       "      <td>60.000000</td>\n",
       "    </tr>\n",
       "    <tr>\n",
       "      <th>1</th>\n",
       "      <td>170.18</td>\n",
       "      <td>146</td>\n",
       "      <td>76.000000</td>\n",
       "    </tr>\n",
       "    <tr>\n",
       "      <th>2</th>\n",
       "      <td>170.18</td>\n",
       "      <td>163</td>\n",
       "      <td>75.538462</td>\n",
       "    </tr>\n",
       "    <tr>\n",
       "      <th>3</th>\n",
       "      <td>182.88</td>\n",
       "      <td>198</td>\n",
       "      <td>50.217391</td>\n",
       "    </tr>\n",
       "    <tr>\n",
       "      <th>4</th>\n",
       "      <td>182.88</td>\n",
       "      <td>154</td>\n",
       "      <td>51.120000</td>\n",
       "    </tr>\n",
       "  </tbody>\n",
       "</table>\n",
       "</div>"
      ],
      "text/plain": [
       "   height  weight  acceleration\n",
       "0  182.88     187     60.000000\n",
       "1  170.18     146     76.000000\n",
       "2  170.18     163     75.538462\n",
       "3  182.88     198     50.217391\n",
       "4  182.88     154     51.120000"
      ]
     },
     "execution_count": 5,
     "metadata": {},
     "output_type": "execute_result"
    }
   ],
   "source": [
    "df.head(5)"
   ]
  },
  {
   "cell_type": "code",
   "execution_count": 7,
   "metadata": {
    "collapsed": true
   },
   "outputs": [],
   "source": [
    "input_dimensions = 2\n",
    "dataset = convert_df_to_ls ( df ,  input_dimensions )"
   ]
  },
  {
   "cell_type": "markdown",
   "metadata": {},
   "source": [
    "##### Data visualization"
   ]
  },
  {
   "cell_type": "markdown",
   "metadata": {},
   "source": [
    "#### Figure 1"
   ]
  },
  {
   "cell_type": "code",
   "execution_count": 15,
   "metadata": {
    "scrolled": true
   },
   "outputs": [
    {
     "data": {
      "image/png": "[encoded data removed]",
      "text/plain": [
       "<matplotlib.figure.Figure at 0x7f125c608cf8>"
      ]
     },
     "metadata": {},
     "output_type": "display_data"
    }
   ],
   "source": [
    "plot2DSet(dataset)"
   ]
  },
  {
   "cell_type": "markdown",
   "metadata": {},
   "source": [
    "#### Figure 2-1"
   ]
  },
  {
   "cell_type": "code",
   "execution_count": 17,
   "metadata": {
    "scrolled": true
   },
   "outputs": [
    {
     "data": {
      "image/png": "[encoded data removed]",
      "text/plain": [
       "<matplotlib.figure.Figure at 0x7fd5632214e0>"
      ]
     },
     "metadata": {},
     "output_type": "display_data"
    }
   ],
   "source": [
    "plt.ylabel('Nombre de joueurs')\n",
    "plt.xlabel('Classes')\n",
    "plt.hist([5000 , 2000 , 10000 ] )\n",
    "plt.axis([-2 , 2 , 0 , 10000 ])\n",
    "\n",
    "x  = list ( dataset.class_indexes.keys() )\n",
    "y  = [ len(dataset.class_indexes[key]) for key in dataset.class_indexes ]\n",
    "\n",
    "LABELS = [\"Lent\" ,\"Moyen\",  \"Rapide\" ]\n",
    "\n",
    "plt.bar(x, y , align='center')\n",
    "plt.xticks(x, LABELS )\n",
    "plt.show()"
   ]
  },
  {
   "cell_type": "markdown",
   "metadata": {},
   "source": [
    "#### Figure 2-2"
   ]
  },
  {
   "cell_type": "code",
   "execution_count": 22,
   "metadata": {},
   "outputs": [
    {
     "data": {
      "image/png": "[encoded data removed]",
      "text/plain": [
       "<matplotlib.figure.Figure at 0x7fd5633f8208>"
      ]
     },
     "metadata": {},
     "output_type": "display_data"
    }
   ],
   "source": [
    "labels = 'Lente', 'Moyenne', 'Rapide'\n",
    "sizes = y\n",
    "colors = ['yellowgreen', 'gold', 'tomato']\n",
    "\n",
    "plt.pie(sizes, labels=labels, colors=colors, \n",
    "        autopct='%1.1f%%', shadow=True, startangle=90)\n",
    "\n",
    "plt.axis('equal')\n",
    "plt.show()"
   ]
  },
  {
   "cell_type": "markdown",
   "metadata": {},
   "source": [
    "#### Figure 3"
   ]
  },
  {
   "cell_type": "code",
   "execution_count": 8,
   "metadata": {},
   "outputs": [
    {
     "data": {
      "image/png": "[encoded data removed]",
      "text/plain": [
       "<matplotlib.figure.Figure at 0x7efc65291630>"
      ]
     },
     "metadata": {},
     "output_type": "display_data"
    }
   ],
   "source": [
    "df_w = df[['weight','acceleration']].groupby('weight' , as_index=False).mean()\n",
    "matrix = df_w.as_matrix()\n",
    "poids = matrix[:,0]\n",
    "accelerations = matrix[:,1]\n",
    "plt.plot( poids , accelerations ,'r' )\n",
    "plt.title(\"Corrélation entre le poids des joueurs et leur accélération \")\n",
    "plt.legend(('acceleration rate',),loc=\"lower left\") # why is this not working\n",
    "plt.show()"
   ]
  },
  {
   "cell_type": "markdown",
   "metadata": {},
   "source": [
    "#### Figure 4"
   ]
  },
  {
   "cell_type": "code",
   "execution_count": 9,
   "metadata": {},
   "outputs": [
    {
     "data": {
      "image/png": "[encoded data removed]",
      "text/plain": [
       "<matplotlib.figure.Figure at 0x7efc65266048>"
      ]
     },
     "metadata": {},
     "output_type": "display_data"
    }
   ],
   "source": [
    "df_h = df[['height','acceleration']].groupby('height' , as_index=False).mean()\n",
    "matrix = df_h.as_matrix()\n",
    "poids = matrix[:,0]\n",
    "accelerations = matrix[:,1]\n",
    "plt.plot( poids , accelerations ,'r' )\n",
    "plt.title(\"Corrélation entre le poids des joueurs et leur accélération \")\n",
    "plt.legend(('acceleration rate',),loc=\"lower left\") # why is this not working\n",
    "plt.show()"
   ]
  },
  {
   "cell_type": "markdown",
   "metadata": {},
   "source": [
    "##### Learning"
   ]
  },
  {
   "cell_type": "code",
   "execution_count": 6,
   "metadata": {
    "collapsed": true
   },
   "outputs": [],
   "source": [
    "TrainSet , TestSet = Train_Test_Split (dataset , 0.8 )\n",
    "knn=KNN( input_dimensions , 10 )\n",
    "knn.train(TrainSet)"
   ]
  },
  {
   "cell_type": "code",
   "execution_count": 11,
   "metadata": {},
   "outputs": [
    {
     "data": {
      "text/html": [
       "<div>\n",
       "<style>\n",
       "    .dataframe thead tr:only-child th {\n",
       "        text-align: right;\n",
       "    }\n",
       "\n",
       "    .dataframe thead th {\n",
       "        text-align: left;\n",
       "    }\n",
       "\n",
       "    .dataframe tbody tr th {\n",
       "        vertical-align: top;\n",
       "    }\n",
       "</style>\n",
       "<table border=\"1\" class=\"dataframe\">\n",
       "  <thead>\n",
       "    <tr style=\"text-align: right;\">\n",
       "      <th></th>\n",
       "      <th>height</th>\n",
       "      <th>weight</th>\n",
       "      <th>acceleration</th>\n",
       "    </tr>\n",
       "  </thead>\n",
       "  <tbody>\n",
       "    <tr>\n",
       "      <th>0</th>\n",
       "      <td>182.88</td>\n",
       "      <td>187</td>\n",
       "      <td>60.000000</td>\n",
       "    </tr>\n",
       "    <tr>\n",
       "      <th>1</th>\n",
       "      <td>170.18</td>\n",
       "      <td>146</td>\n",
       "      <td>76.000000</td>\n",
       "    </tr>\n",
       "    <tr>\n",
       "      <th>2</th>\n",
       "      <td>170.18</td>\n",
       "      <td>163</td>\n",
       "      <td>75.538462</td>\n",
       "    </tr>\n",
       "    <tr>\n",
       "      <th>3</th>\n",
       "      <td>182.88</td>\n",
       "      <td>198</td>\n",
       "      <td>50.217391</td>\n",
       "    </tr>\n",
       "    <tr>\n",
       "      <th>4</th>\n",
       "      <td>182.88</td>\n",
       "      <td>154</td>\n",
       "      <td>51.120000</td>\n",
       "    </tr>\n",
       "  </tbody>\n",
       "</table>\n",
       "</div>"
      ],
      "text/plain": [
       "   height  weight  acceleration\n",
       "0  182.88     187     60.000000\n",
       "1  170.18     146     76.000000\n",
       "2  170.18     163     75.538462\n",
       "3  182.88     198     50.217391\n",
       "4  182.88     154     51.120000"
      ]
     },
     "execution_count": 11,
     "metadata": {},
     "output_type": "execute_result"
    }
   ],
   "source": [
    "df.head(5)"
   ]
  },
  {
   "cell_type": "markdown",
   "metadata": {},
   "source": [
    "##### Switch to Binary Classification "
   ]
  },
  {
   "cell_type": "markdown",
   "metadata": {},
   "source": [
    "\n",
    "We will try to test with a binary classification:\n",
    "- Bad = -1 (Bad performance \"acceleration <70\")\n",
    "- Good = +1 Otherwise"
   ]
  },
  {
   "cell_type": "code",
   "execution_count": 23,
   "metadata": {
    "collapsed": true
   },
   "outputs": [],
   "source": [
    "def label_bin( data ):\n",
    "    if ( data < 70 ) : return -1 \n",
    "    return +1\n",
    "\n",
    "class KNN_binaire (KNN):\n",
    "    #Permet de calculer la prediction sur x => renvoie un score\n",
    "    def predict(self, x):\n",
    "        distances =[]\n",
    "        for i in range (self.model.size()):\n",
    "            #Distance Euclédienne fait par moi même\n",
    "            # np.sqrt(( self.model.getX(i)[0] -  x[0] )**2  +  ( self.model.getX(i)[1] - x[1] )**2 )\n",
    "            #Pour des Dimensions énormes faut penser a utiliser une fonction  prédéfinie Ex : np.linalg.norm\n",
    "            distances.append( np.linalg.norm(self.model.getX(i)-x) ) \n",
    "        #Sort distances\n",
    "        distances = np.argsort(np.array(distances)) \n",
    "        S = 0 \n",
    "        for i in range(self.k):\n",
    "            #Pas la peine de faire la moyenne\n",
    "            S = S + self.model.getY(distances[i])\n",
    "        if ( S < 0 ) : return -1\n",
    "        return +1\n",
    "    \n",
    "def convert_df_to_ls( df , data_cols_count ):\n",
    "    matrix = df.as_matrix()\n",
    "    ls = LabeledSet_binaire( data_cols_count )\n",
    "    for row in matrix :\n",
    "        ls.addExample ( row[:data_cols_count] , label_bin (row[data_cols_count]) )\n",
    "    return ls\n"
   ]
  },
  {
   "cell_type": "code",
   "execution_count": 27,
   "metadata": {
    "collapsed": true
   },
   "outputs": [],
   "source": [
    "input_dimensions = 2\n",
    "dataset_bin = convert_df_to_ls ( df ,  input_dimensions )\n",
    "\n",
    "TrainSet , TestSet = Train_Test_Split (dataset_bin , 0.8 )\n",
    "knn=KNN_binaire( input_dimensions , 10 )\n",
    "knn.train(TrainSet)"
   ]
  },
  {
   "cell_type": "code",
   "execution_count": 28,
   "metadata": {},
   "outputs": [
    {
     "name": "stdout",
     "output_type": "stream",
     "text": [
      "accuracy is :  67.96204247627655\n"
     ]
    }
   ],
   "source": [
    "print (\"accuracy is : \",knn.accuracy(TestSet))"
   ]
  },
  {
   "cell_type": "markdown",
   "metadata": {},
   "source": [
    "#### Our Own Decision Tree"
   ]
  },
  {
   "cell_type": "code",
   "execution_count": 14,
   "metadata": {
    "collapsed": true
   },
   "outputs": [],
   "source": [
    "import math\n",
    "def classe_majoritaire(labeledSet):\n",
    "    S = 0 \n",
    "    for i in range(labeledSet.size()):\n",
    "        S += labeledSet.getY(i)\n",
    "    if ( S < 0 ) : \n",
    "        return -1 \n",
    "    return +1\n",
    "\n",
    "def shannon(P):\n",
    "    if ( len(P) == 1 ) :\n",
    "        return 0\n",
    "    Sum = 0 \n",
    "    for pi in P :\n",
    "        if ( pi != 0):\n",
    "               Sum += pi*(math.log(pi,len(P)))\n",
    "    return -Sum\n",
    "\n",
    "\n",
    "#Fonction générale  elle se limite pas à la classification binaire\n",
    "def entropie(LabeledSet):\n",
    "    #Calculer la frequence d apparition de chaque classe\n",
    "    dictFreq = dict() \n",
    "    for i in range (LabeledSet.size()):\n",
    "        #Récupère le Label \n",
    "        classe = LabeledSet.getY(i)\n",
    "        #Si la classe existe deja  on incremente Sinon on la crée \n",
    "        if ( classe in dictFreq ) : \n",
    "            dictFreq[classe] += 1\n",
    "        else :\n",
    "            dictFreq[classe] = 1\n",
    "    #transformer la frequence de chaque classe en probabilité  en divisant sur le nbr total\n",
    "    for i in dictFreq :\n",
    "        #Python division float ne marche pas automatiquement\n",
    "        dictFreq[i] = dictFreq[i] *1.0/ LabeledSet.size()\n",
    "    return (shannon(dictFreq.values()))\n",
    "\n",
    "def discretise(LSet, col):\n",
    "    \"\"\" LabelledSet * int -> tuple[float, float]\n",
    "        col est le numéro de colonne sur X à discrétiser\n",
    "        rend la valeur de coupure qui minimise l'entropie ainsi que son entropie.\n",
    "    \"\"\"\n",
    "    # initialisation:\n",
    "    min_entropie = 1.1  # on met à une valeur max car on veut minimiser\n",
    "    min_seuil = 0.0     \n",
    "    # trie des valeurs:\n",
    "    ind= np.argsort(LSet.x,axis=0)\n",
    "    \n",
    "    # calcul des distributions des classes pour E1 et E2:\n",
    "    inf_plus  = 0               # nombre de +1 dans E1\n",
    "    inf_moins = 0               # nombre de -1 dans E1\n",
    "    sup_plus  = 0               # nombre de +1 dans E2\n",
    "    sup_moins = 0               # nombre de -1 dans E2       \n",
    "    # remarque: au départ on considère que E1 est vide et donc E2 correspond à E. \n",
    "    # Ainsi inf_plus et inf_moins valent 0. Il reste à calculer sup_plus et sup_moins \n",
    "    # dans E.\n",
    "    for j in range(0,LSet.size()):\n",
    "        if (LSet.getY(j) == -1):\n",
    "            sup_moins += 1\n",
    "        else:\n",
    "            sup_plus += 1\n",
    "    nb_total = (sup_plus + sup_moins) # nombre d'exemples total dans E\n",
    "    \n",
    "    # parcours pour trouver le meilleur seuil:\n",
    "    for i in range(len(LSet.x)-1):\n",
    "        v_ind_i = ind[i]   # vecteur d'indices\n",
    "        courant = LSet.getX(v_ind_i[col])[col]\n",
    "        lookahead = LSet.getX(ind[i+1][col])[col]\n",
    "        val_seuil = (courant + lookahead) / 2.0;\n",
    "        # M-A-J de la distrib. des classes:\n",
    "        # pour réduire les traitements: on retire un exemple de E2 et on le place\n",
    "        # dans E1, c'est ainsi que l'on déplace donc le seuil de coupure.\n",
    "        if LSet.getY(ind[i][col]) == -1:\n",
    "            inf_moins += 1\n",
    "            sup_moins -= 1\n",
    "        else:\n",
    "            inf_plus += 1\n",
    "            sup_plus -= 1\n",
    "        # calcul de la distribution des classes de chaque côté du seuil:\n",
    "        nb_inf = (inf_moins + inf_plus)*1.0     # rem: on en fait un float pour éviter\n",
    "        nb_sup = (sup_moins + sup_plus)*1.0     # que ce soit une division entière.\n",
    "        # calcul de l'entropie de la coupure\n",
    "        val_entropie_inf = shannon([inf_moins / nb_inf, inf_plus  / nb_inf])\n",
    "        val_entropie_sup = shannon([sup_moins / nb_sup, sup_plus  / nb_sup])\n",
    "        val_entropie = (nb_inf / nb_total) * val_entropie_inf + (nb_sup / nb_total) * val_entropie_sup\n",
    "        # si cette coupure minimise l'entropie, on mémorise ce seuil et son entropie:\n",
    "        if (min_entropie > val_entropie):\n",
    "            min_entropie = val_entropie\n",
    "            min_seuil = val_seuil\n",
    "    return (min_seuil, min_entropie)\n",
    "\n",
    "def divise(LSet,att,seuil):\n",
    "    set1 = LabeledSet(LSet.getInputDimension)\n",
    "    set2 = LabeledSet(LSet.getInputDimension)\n",
    "    for i in range (LSet.size()):\n",
    "        if ( LSet.getX(i)[att] < seuil ) :\n",
    "            set1.addExample ( LSet.getX(i) , LSet.getY(i) )\n",
    "        else :\n",
    "            set2.addExample ( LSet.getX(i) , LSet.getY(i) )\n",
    "    return (set1,set2)\n",
    "\n",
    "\n",
    "class ArbreBinaire:\n",
    "    def __init__(self):\n",
    "        self.attribut = None   # numéro de l'attribut\n",
    "        self.seuil = None\n",
    "        self.inferieur = None # ArbreBinaire Gauche (valeurs <= au seuil)\n",
    "        self.superieur = None # ArbreBinaire Gauche (valeurs > au seuil)\n",
    "        self.classe = None # Classe si c'est une feuille: -1 ou +1\n",
    "        \n",
    "    def est_feuille(self):\n",
    "        \"\"\" rend True si l'arbre est une feuille \"\"\"\n",
    "        return self.seuil == None\n",
    "    \n",
    "    def ajoute_fils(self,ABinf,ABsup,att,seuil):\n",
    "        \"\"\" ABinf, ABsup: 2 arbres binaires\n",
    "            att: numéro d'attribut\n",
    "            seuil: valeur de seuil\n",
    "        \"\"\"\n",
    "        self.attribut = att\n",
    "        self.seuil = seuil\n",
    "        self.inferieur = ABinf\n",
    "        self.superieur = ABsup\n",
    "    \n",
    "    def ajoute_feuille(self,classe):\n",
    "        \"\"\" classe: -1 ou + 1\n",
    "        \"\"\"\n",
    "        self.classe = classe\n",
    "        \n",
    "    def classifie(self,exemple):\n",
    "        \"\"\" exemple : numpy.array\n",
    "            rend la classe de l'exemple: +1 ou -1\n",
    "        \"\"\"\n",
    "        if self.est_feuille():\n",
    "            return self.classe\n",
    "        if exemple[self.attribut] <= self.seuil:\n",
    "            return self.inferieur.classifie(exemple)\n",
    "        return self.superieur.classifie(exemple)\n",
    "    \n",
    "    def to_graph(self, g, prefixe='A'):\n",
    "        \"\"\" construit une représentation de l'arbre pour pouvoir\n",
    "            l'afficher\n",
    "        \"\"\"\n",
    "        if self.est_feuille():\n",
    "            g.node(prefixe,str(self.classe),shape='box')\n",
    "        else:\n",
    "            g.node(prefixe, str(self.attribut))\n",
    "            self.inferieur.to_graph(g,prefixe+\"g\")\n",
    "            self.superieur.to_graph(g,prefixe+\"d\")\n",
    "            g.edge(prefixe,prefixe+\"g\", '<='+ str(self.seuil))\n",
    "            g.edge(prefixe,prefixe+\"d\", '>'+ str(self.seuil))\n",
    "        \n",
    "        return g\n",
    "    \n",
    "    \n",
    "\n",
    "\n",
    "def construit_AD(LSet,epsilon):\n",
    "    un_arbre= ArbreBinaire()\n",
    "    if ( entropie(LSet) <= epsilon ) : \n",
    "        un_arbre.ajoute_feuille(classe_majoritaire(LSet))\n",
    "    else :\n",
    "        entropie_min = 1.1\n",
    "        selected_attr = -1 \n",
    "        seuilMin = 0\n",
    "        ## tous les descritises des attributs \n",
    "        nbr_attrs = len(LSet.getX(0))\n",
    "        \n",
    "        for attr in range(nbr_attrs):\n",
    "            seuil , entrop  = discretise(LSet,attr)\n",
    "            if ( entrop < entropie_min ) :\n",
    "                entropie_min = entrop \n",
    "                selected_attr = attr\n",
    "                seuilMin = seuil\n",
    "        \n",
    "        set1 , set2 = divise(LSet,selected_attr,seuilMin)\n",
    "        un_arbre.ajoute_fils( construit_AD(set1,epsilon)  ,  construit_AD(set2,epsilon)  , selected_attr  ,seuilMin )\n",
    "        \n",
    "    return un_arbre\n",
    "\n",
    "class ArbreDecision(Classifier):\n",
    "    # Constructeur\n",
    "    def __init__(self,epsilon):\n",
    "        # valeur seuil d'entropie pour arrêter la construction\n",
    "        self.epsilon= epsilon\n",
    "        self.racine = None\n",
    "    \n",
    "    # Permet de calculer la prediction sur x => renvoie un score\n",
    "    def predict(self,x):\n",
    "        # classification de l'exemple x avec l'arbre de décision\n",
    "        # on rend 0 (classe -1) ou 1 (classe 1)\n",
    "        classe = self.racine.classifie(x)\n",
    "        if (classe == 1):\n",
    "            return(1)\n",
    "        else:\n",
    "            return(-1)\n",
    "    \n",
    "    # Permet d'entrainer le modele sur un ensemble de données\n",
    "    def train(self,set):\n",
    "        # construction de l'arbre de décision \n",
    "        self.set=set\n",
    "        self.racine = construit_AD(set,self.epsilon)\n",
    "\n",
    "    # Permet d'afficher l'arbre\n",
    "    def plot(self):\n",
    "        gtree = gv.Digraph(format='png')\n",
    "        return self.racine.to_graph(gtree)\n",
    "    #Permet de calculer la qualité du système \n",
    "    def accuracy(self, dataset):\n",
    "        l=[]\n",
    "        casok=0\n",
    "        for i in range(dataset.size()):\n",
    "            if(self.predict(dataset.getX(i))==dataset.getY(i)):\n",
    "                casok+=1\n",
    "        return casok/float(dataset.size())\n"
   ]
  },
  {
   "cell_type": "code",
   "execution_count": null,
   "metadata": {
    "collapsed": true
   },
   "outputs": [],
   "source": [
    "# un exemple d'utilisation:\n",
    "ad=ArbreDecision(0.0)       \n",
    "ad.train(TrainSet)              \n",
    "\n",
    "print(\"accuracy:\", ad.accuracy(TestSet))    \n",
    "\n",
    "#test de l'affichage \n",
    "ad.plot()"
   ]
  },
  {
   "cell_type": "code",
   "execution_count": 27,
   "metadata": {},
   "outputs": [
    {
     "data": {
      "text/plain": [
       "0"
      ]
     },
     "execution_count": 27,
     "metadata": {},
     "output_type": "execute_result"
    }
   ],
   "source": [
    "TrainSet , TestSet = Train_Test_Split (dataset , 0.8 )\n",
    "TestSet = Train_Test_Split (TestSet , 0.02 )[1]\n",
    "knn=KNN( input_dimensions , 10 )\n",
    "knn.train(TrainSet)\n",
    "knn.predict([180,180])"
   ]
  },
  {
   "cell_type": "markdown",
   "metadata": {},
   "source": [
    "####  <span style=\"color:red\">RecursionError: maximum recursion depth exceeded while calling a Python object</span>"
   ]
  },
  {
   "cell_type": "markdown",
   "metadata": {},
   "source": [
    "#### Sklearn : Random Forest"
   ]
  },
  {
   "cell_type": "code",
   "execution_count": 80,
   "metadata": {},
   "outputs": [
    {
     "data": {
      "text/html": [
       "<div>\n",
       "<style>\n",
       "    .dataframe thead tr:only-child th {\n",
       "        text-align: right;\n",
       "    }\n",
       "\n",
       "    .dataframe thead th {\n",
       "        text-align: left;\n",
       "    }\n",
       "\n",
       "    .dataframe tbody tr th {\n",
       "        vertical-align: top;\n",
       "    }\n",
       "</style>\n",
       "<table border=\"1\" class=\"dataframe\">\n",
       "  <thead>\n",
       "    <tr style=\"text-align: right;\">\n",
       "      <th></th>\n",
       "      <th>height</th>\n",
       "      <th>weight</th>\n",
       "      <th>acceleration</th>\n",
       "    </tr>\n",
       "  </thead>\n",
       "  <tbody>\n",
       "    <tr>\n",
       "      <th>0</th>\n",
       "      <td>182.88</td>\n",
       "      <td>187</td>\n",
       "      <td>low</td>\n",
       "    </tr>\n",
       "    <tr>\n",
       "      <th>1</th>\n",
       "      <td>170.18</td>\n",
       "      <td>146</td>\n",
       "      <td>medium</td>\n",
       "    </tr>\n",
       "    <tr>\n",
       "      <th>2</th>\n",
       "      <td>170.18</td>\n",
       "      <td>163</td>\n",
       "      <td>medium</td>\n",
       "    </tr>\n",
       "    <tr>\n",
       "      <th>3</th>\n",
       "      <td>182.88</td>\n",
       "      <td>198</td>\n",
       "      <td>low</td>\n",
       "    </tr>\n",
       "    <tr>\n",
       "      <th>4</th>\n",
       "      <td>182.88</td>\n",
       "      <td>154</td>\n",
       "      <td>low</td>\n",
       "    </tr>\n",
       "  </tbody>\n",
       "</table>\n",
       "</div>"
      ],
      "text/plain": [
       "   height  weight acceleration\n",
       "0  182.88     187          low\n",
       "1  170.18     146       medium\n",
       "2  170.18     163       medium\n",
       "3  182.88     198          low\n",
       "4  182.88     154          low"
      ]
     },
     "execution_count": 80,
     "metadata": {},
     "output_type": "execute_result"
    }
   ],
   "source": [
    "#Préparation des données\n",
    "df_test = df.copy(deep=True)\n",
    "df_test['acceleration'] = df_test['acceleration'].apply( lambda x: 'low'if x<65 else ('high' if x>=80 else 'medium') )\n",
    "df_test.head(5)"
   ]
  },
  {
   "cell_type": "code",
   "execution_count": 81,
   "metadata": {},
   "outputs": [
    {
     "data": {
      "text/html": [
       "<div>\n",
       "<style>\n",
       "    .dataframe thead tr:only-child th {\n",
       "        text-align: right;\n",
       "    }\n",
       "\n",
       "    .dataframe thead th {\n",
       "        text-align: left;\n",
       "    }\n",
       "\n",
       "    .dataframe tbody tr th {\n",
       "        vertical-align: top;\n",
       "    }\n",
       "</style>\n",
       "<table border=\"1\" class=\"dataframe\">\n",
       "  <thead>\n",
       "    <tr style=\"text-align: right;\">\n",
       "      <th></th>\n",
       "      <th>height</th>\n",
       "      <th>weight</th>\n",
       "      <th>acceleration</th>\n",
       "      <th>is_train</th>\n",
       "    </tr>\n",
       "  </thead>\n",
       "  <tbody>\n",
       "    <tr>\n",
       "      <th>0</th>\n",
       "      <td>182.88</td>\n",
       "      <td>187</td>\n",
       "      <td>low</td>\n",
       "      <td>True</td>\n",
       "    </tr>\n",
       "    <tr>\n",
       "      <th>1</th>\n",
       "      <td>170.18</td>\n",
       "      <td>146</td>\n",
       "      <td>medium</td>\n",
       "      <td>True</td>\n",
       "    </tr>\n",
       "    <tr>\n",
       "      <th>2</th>\n",
       "      <td>170.18</td>\n",
       "      <td>163</td>\n",
       "      <td>medium</td>\n",
       "      <td>True</td>\n",
       "    </tr>\n",
       "    <tr>\n",
       "      <th>3</th>\n",
       "      <td>182.88</td>\n",
       "      <td>198</td>\n",
       "      <td>low</td>\n",
       "      <td>False</td>\n",
       "    </tr>\n",
       "    <tr>\n",
       "      <th>4</th>\n",
       "      <td>182.88</td>\n",
       "      <td>154</td>\n",
       "      <td>low</td>\n",
       "      <td>True</td>\n",
       "    </tr>\n",
       "  </tbody>\n",
       "</table>\n",
       "</div>"
      ],
      "text/plain": [
       "   height  weight acceleration  is_train\n",
       "0  182.88     187          low      True\n",
       "1  170.18     146       medium      True\n",
       "2  170.18     163       medium      True\n",
       "3  182.88     198          low     False\n",
       "4  182.88     154          low      True"
      ]
     },
     "execution_count": 81,
     "metadata": {},
     "output_type": "execute_result"
    }
   ],
   "source": [
    "df_test['is_train'] = np.random.uniform(0, 1, len(df)) <= .75\n",
    "df_test.head()"
   ]
  },
  {
   "cell_type": "code",
   "execution_count": 82,
   "metadata": {},
   "outputs": [
    {
     "name": "stdout",
     "output_type": "stream",
     "text": [
      "le nombre d exemples pour le Training : 8376\n",
      "le nombre d exemples pour le Test : 2684\n"
     ]
    },
    {
     "data": {
      "text/plain": [
       "array([0, 1, 1, ..., 1, 1, 0])"
      ]
     },
     "execution_count": 82,
     "metadata": {},
     "output_type": "execute_result"
    }
   ],
   "source": [
    "train, test = df_test[df_test['is_train']==True], df_test[df_test['is_train']==False]\n",
    "print('le nombre d exemples pour le Training :', len(train))\n",
    "print('le nombre d exemples pour le Test :',len(test))\n",
    "features = df.columns[:2]\n",
    "y = pd.factorize(train['acceleration'])[0]\n",
    "y"
   ]
  },
  {
   "cell_type": "markdown",
   "metadata": {},
   "source": [
    "###### Note :\n",
    "\n",
    "- the number of trees by default, it is 10\n",
    "- the number of execution processes is 2 (concurrent programming) for a better execution time\n",
    "- random_state: compared to the random number generator that uses the seed to do that, it is initialized to 0 preferably"
   ]
  },
  {
   "cell_type": "code",
   "execution_count": 83,
   "metadata": {},
   "outputs": [
    {
     "data": {
      "text/plain": [
       "RandomForestClassifier(bootstrap=True, class_weight=None, criterion='gini',\n",
       "            max_depth=None, max_features='auto', max_leaf_nodes=None,\n",
       "            min_impurity_decrease=0.0, min_impurity_split=None,\n",
       "            min_samples_leaf=1, min_samples_split=2,\n",
       "            min_weight_fraction_leaf=0.0, n_estimators=10, n_jobs=2,\n",
       "            oob_score=False, random_state=0, verbose=0, warm_start=False)"
      ]
     },
     "execution_count": 83,
     "metadata": {},
     "output_type": "execute_result"
    }
   ],
   "source": [
    "#Training\n",
    "from sklearn.ensemble import RandomForestClassifier\n",
    "clf = RandomForestClassifier(n_jobs=2, random_state=0)\n",
    "clf.fit(train[features], y)"
   ]
  },
  {
   "cell_type": "code",
   "execution_count": 86,
   "metadata": {},
   "outputs": [
    {
     "name": "stdout",
     "output_type": "stream",
     "text": [
      "La prediction avec une Random Forest est avec une accuracy de  64.34426229508196\n"
     ]
    }
   ],
   "source": [
    "from sklearn.metrics import accuracy_score\n",
    "\n",
    "preds = clf.predict(test[features])\n",
    "trues  = pd.factorize(test['acceleration'])[0]\n",
    "print ( 'La prediction avec une Random Forest est avec une accuracy de ',accuracy_score(trues,preds)*100.00  )"
   ]
  },
  {
   "cell_type": "code",
   "execution_count": 93,
   "metadata": {
    "collapsed": true
   },
   "outputs": [],
   "source": [
    "acc = list()\n",
    "for n in range ( 2 , 101 ) :\n",
    "    clf = RandomForestClassifier(n_estimators=n , n_jobs=2, random_state=0)\n",
    "    clf.fit(train[features], y)\n",
    "    preds = clf.predict(test[features])\n",
    "    trues  = pd.factorize(test['acceleration'])[0]\n",
    "    acc.append ( accuracy_score(trues,preds)*100.00  )"
   ]
  },
  {
   "cell_type": "code",
   "execution_count": 94,
   "metadata": {},
   "outputs": [
    {
     "data": {
      "image/png": "[encoded data removed]",
      "text/plain": [
       "<matplotlib.figure.Figure at 0x7fd5515ae860>"
      ]
     },
     "metadata": {},
     "output_type": "display_data"
    }
   ],
   "source": [
    "plt.plot( list(range(2,101)) , acc ,'r' )\n",
    "plt.title(\"le taux de prediction obtenu en augmentant la taille de la foret d'arbres de 2 a 100\")\n",
    "plt.legend('Accuracy' , loc='lower right')\n",
    "plt.axis([0, 102, 0, 105])\n",
    "plt.show()"
   ]
  },
  {
   "cell_type": "markdown",
   "metadata": {},
   "source": [
    "## Part 5 - Results"
   ]
  },
  {
   "cell_type": "markdown",
   "metadata": {},
   "source": [
    "1) KNN 3-classes : We see that our ternary KNN classifier has not given us an accuracy more than 50%, it is very far and it has not exceeded 27% whatever the value of K, we also see that it remained at the same accuracy value for 50 different K values, which is deceiving as a result.\n",
    "\n",
    "2) KNN Binary: In this case we divide the players into two classes Good / Bad acceleration (-1, + 1) and we see that it behaves much better and with a K = 10 we get an accuracy of 68 % which is not at all negligible\n",
    "\n",
    "3) Decision Tree: Keeping the same binary classification, we tried to test a decision tree to see what it gives or we got an error related to the number of recursive calls allowed by python ie our classifier has exceeded the 999 nested recursive calls and thus the executions stopped.\n",
    "\n",
    "4) Random forest of the 'sklearn' library: we arrive at the part which gave us the best result and a better accuracy which reached almost 65% while keeping a Ternary classification, on the other hand we clearly see that even by increasing the number accuracy remains constant. We  exceeded 50% accuracy and that was our goal from the start"
   ]
  },
  {
   "cell_type": "markdown",
   "metadata": {},
   "source": [
    "## Part 6 - Interpretation and analysis"
   ]
  },
  {
   "cell_type": "markdown",
   "metadata": {},
   "source": [
    "The most important part of our problem is the analysis of the results obtained.\n",
    "\n",
    "- The data is very dense and very close, and we also talk about football players so if we treated the data of ordinary people who do not train regularly, it is clear that we will have better results on this problem . However , football players work and train to improve their performance so we had many examples that were the exception to the rule of 3 classes such as players who are average of (size, weight) but who are very slow or very fast, players who are tall (size, weight) but are fast and that also justifies the sudden increase in acceleration (Figure 2-1 and 2-2) despite the fact that the size (respectively weight) was great.\n",
    "\n",
    "\n",
    "- compared to the percentages of distribution between the 3 categories, more precisely the surprising result which says that 38.7% of the players have a weak acceleration, so it is as un expected valuable information that we extracted . football clubs should review this and try to correct it because it's terrible in this sport , especially the fact that the majority of football scores are very related to the speed and acceleration (this is another problem that can be traced) because any goal in football is caused by an error and most generally the errors are related to the speed of execution, acceleration, reaction and inattention .\n",
    "\n",
    "\n",
    "- compared to the classification, globally the accuracy can not reach a very high value, the KNN proves exactly the fact that the data are very close and dense and therefore to have a better accuracy it was necessary to be seen the 500 or 1000 close neighbors because with a single neighbor or 50 neighbors we generally got the same result given the density of the data.\n",
    "\n",
    " With a single decision tree we could not go far because the recursive calls were linked and given the density we had it was very difficult to reach a level where the data would be separable and therefore we could not reach the minimal entropy even with a depth of 999 knots.\n",
    " \n",
    " Our best classification result was obtained with the predefined randomForests of sklearn, it is very well coded and very optimal in execution time for massive data and the result of 68% proves that there is still a logic and information to draw from the size and weight, it is necessary to build a vector of data much more informative and rich, for example one adds the age of the person, the league which it plays (because it differs the speed For example, players in England have to be very fast with huge speed etc ... compared to Italy) and many other statistical parameters on the player, which allow us to better classify it in Speed ​​(acceleration, speed of execution, reaction, sprint) in bad, average and good and to maximize the accuracy."
   ]
  }
 ],
 "metadata": {
  "kernelspec": {
   "display_name": "Python 3",
   "language": "python",
   "name": "python3"
  },
  "language_info": {
   "codemirror_mode": {
    "name": "ipython",
    "version": 3
   },
   "file_extension": ".py",
   "mimetype": "text/x-python",
   "name": "python",
   "nbconvert_exporter": "python",
   "pygments_lexer": "ipython3",
   "version": "3.7.3"
  }
 },
 "nbformat": 4,
 "nbformat_minor": 1
}
