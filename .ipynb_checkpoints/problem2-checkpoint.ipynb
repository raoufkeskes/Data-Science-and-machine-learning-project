{
 "cells": [
  {
   "cell_type": "markdown",
   "metadata": {},
   "source": [
    "## Abdelraouf KESKES\n",
    "\n",
    "## 2017 - 2018\n",
    "\n",
    "## Score Classification Problem"
   ]
  },
  {
   "cell_type": "markdown",
   "metadata": {
    "collapsed": true
   },
   "source": [
    "## Part 1 - Problem Description"
   ]
  },
  {
   "cell_type": "markdown",
   "metadata": {},
   "source": [
    "In this notebook we will focus on a problem that is very intuitive when we talk about football games, it is obviously the problem of predicting the scores, more precisely predict whether one of the two teams will win or if it is a draw, so it's a problem of classifications of 3 classes:\n",
    "\n",
    "- Home team win: it is the team that plays in its field that wins.\n",
    "- Away team win: it is the team that does not play in its field that wins.\n",
    "- Draw: draw\n",
    "\n",
    "In a very random game like football, even being very optimistic we can not estimate a very high accuracy so at first our goal will be to try to exceed the bar of 50%, and then we will try to fine-tune the model to be much more efficient, by better analyzing the data , trying to extract the most useful information and removing the 'noise'.\n",
    "The biggest work on this problem will be finding the most relevant information a k a Feature engineering\n",
    "\n",
    "\n",
    "Let's go!"
   ]
  },
  {
   "cell_type": "markdown",
   "metadata": {},
   "source": [
    "## Part 2 - Model"
   ]
  },
  {
   "cell_type": "markdown",
   "metadata": {},
   "source": [
    "it s a 3-classes classification problem , therfore : \n",
    "- we will use in this notebook, it will be the KNN ,  classes and not only two\n",
    "- we will exclude the simple perceptron that we made during the semester and which was limited to a binary classification of only two classes \n",
    "- DecisionTree and RandomForests.\n",
    "\n",
    "We will use the sklearn library instead of our functions coded during the semester for the sake of complexity, tuning , and parameterization (much more flexible)."
   ]
  },
  {
   "cell_type": "markdown",
   "metadata": {},
   "source": [
    "## Partie 3 - Code"
   ]
  },
  {
   "cell_type": "code",
   "execution_count": 1,
   "metadata": {
    "collapsed": true
   },
   "outputs": [],
   "source": [
    "########################################  librairies ###############################################\n",
    "import pandas as pd\n",
    "import numpy as np\n",
    "import matplotlib.pyplot as plt\n",
    "import matplotlib\n",
    "# Permet d'afficher les figures directement dans le notebook:\n",
    "%matplotlib inline\n",
    "from sklearn.neighbors import KNeighborsClassifier\n",
    "from sklearn.tree import DecisionTreeClassifier\n",
    "from sklearn.ensemble import RandomForestClassifier\n"
   ]
  },
  {
   "cell_type": "markdown",
   "metadata": {},
   "source": [
    "### Data & Preprocessing"
   ]
  },
  {
   "cell_type": "markdown",
   "metadata": {},
   "source": [
    "#### Fetching"
   ]
  },
  {
   "cell_type": "code",
   "execution_count": 2,
   "metadata": {
    "collapsed": true
   },
   "outputs": [],
   "source": [
    "pd.set_option('display.max_columns', 500)\n",
    "pd.set_option('display.max_colwidth', 1000)\n",
    "\n",
    "df_match = pd.read_csv('../soccer/match.csv')\n",
    "df_teamAttrs = pd.read_csv('../soccer/teamattributes.csv'  )\n",
    "df_team = pd.read_csv('../soccer/team.csv'  )\n",
    "df_leagues =  pd.read_csv('../soccer/league.csv'  )"
   ]
  },
  {
   "cell_type": "markdown",
   "metadata": {},
   "source": [
    "**Preprocessing**"
   ]
  },
  {
   "cell_type": "code",
   "execution_count": 3,
   "metadata": {},
   "outputs": [
    {
     "data": {
      "text/html": [
       "<div>\n",
       "<style>\n",
       "    .dataframe thead tr:only-child th {\n",
       "        text-align: right;\n",
       "    }\n",
       "\n",
       "    .dataframe thead th {\n",
       "        text-align: left;\n",
       "    }\n",
       "\n",
       "    .dataframe tbody tr th {\n",
       "        vertical-align: top;\n",
       "    }\n",
       "</style>\n",
       "<table border=\"1\" class=\"dataframe\">\n",
       "  <thead>\n",
       "    <tr style=\"text-align: right;\">\n",
       "      <th></th>\n",
       "      <th>team_api_id</th>\n",
       "      <th>buildUpPlaySpeed</th>\n",
       "      <th>chanceCreationPassing</th>\n",
       "      <th>chanceCreationCrossing</th>\n",
       "      <th>defencePressure</th>\n",
       "      <th>team_long_name</th>\n",
       "    </tr>\n",
       "  </thead>\n",
       "  <tbody>\n",
       "    <tr>\n",
       "      <th>0</th>\n",
       "      <td>1601</td>\n",
       "      <td>47.333333</td>\n",
       "      <td>55.500000</td>\n",
       "      <td>60.333333</td>\n",
       "      <td>47.166667</td>\n",
       "      <td>Ruch Chorzów</td>\n",
       "    </tr>\n",
       "    <tr>\n",
       "      <th>1</th>\n",
       "      <td>1773</td>\n",
       "      <td>52.000000</td>\n",
       "      <td>50.000000</td>\n",
       "      <td>53.000000</td>\n",
       "      <td>43.000000</td>\n",
       "      <td>Oud-Heverlee Leuven</td>\n",
       "    </tr>\n",
       "    <tr>\n",
       "      <th>2</th>\n",
       "      <td>1957</td>\n",
       "      <td>47.166667</td>\n",
       "      <td>50.833333</td>\n",
       "      <td>36.333333</td>\n",
       "      <td>49.333333</td>\n",
       "      <td>Jagiellonia Białystok</td>\n",
       "    </tr>\n",
       "    <tr>\n",
       "      <th>3</th>\n",
       "      <td>2033</td>\n",
       "      <td>49.000000</td>\n",
       "      <td>51.800000</td>\n",
       "      <td>44.200000</td>\n",
       "      <td>42.200000</td>\n",
       "      <td>S.C. Olhanense</td>\n",
       "    </tr>\n",
       "    <tr>\n",
       "      <th>4</th>\n",
       "      <td>2182</td>\n",
       "      <td>60.333333</td>\n",
       "      <td>56.666667</td>\n",
       "      <td>57.333333</td>\n",
       "      <td>51.666667</td>\n",
       "      <td>Lech Poznań</td>\n",
       "    </tr>\n",
       "  </tbody>\n",
       "</table>\n",
       "</div>"
      ],
      "text/plain": [
       "   team_api_id  buildUpPlaySpeed  chanceCreationPassing  \\\n",
       "0         1601         47.333333              55.500000   \n",
       "1         1773         52.000000              50.000000   \n",
       "2         1957         47.166667              50.833333   \n",
       "3         2033         49.000000              51.800000   \n",
       "4         2182         60.333333              56.666667   \n",
       "\n",
       "   chanceCreationCrossing  defencePressure         team_long_name  \n",
       "0               60.333333        47.166667           Ruch Chorzów  \n",
       "1               53.000000        43.000000    Oud-Heverlee Leuven  \n",
       "2               36.333333        49.333333  Jagiellonia Białystok  \n",
       "3               44.200000        42.200000         S.C. Olhanense  \n",
       "4               57.333333        51.666667            Lech Poznań  "
      ]
     },
     "execution_count": 3,
     "metadata": {},
     "output_type": "execute_result"
    }
   ],
   "source": [
    "df_teamAttrs = df_teamAttrs [[ 'team_api_id', 'buildUpPlaySpeed' , 'chanceCreationPassing' , 'chanceCreationCrossing' , 'defencePressure' ]]\n",
    "df_teamAttrs = df_teamAttrs.groupby( 'team_api_id' , as_index=False ).mean()\n",
    "df_teamAttrs = pd.merge(df_teamAttrs, df_team, on='team_api_id', how='inner')\n",
    "df_teamAttrs.drop([ 'id' , 'team_fifa_api_id' , 'team_short_name' ] , axis=1, inplace=True)\n",
    "df_teamAttrs.head(5)"
   ]
  },
  {
   "cell_type": "code",
   "execution_count": 4,
   "metadata": {},
   "outputs": [
    {
     "data": {
      "text/html": [
       "<div>\n",
       "<style>\n",
       "    .dataframe thead tr:only-child th {\n",
       "        text-align: right;\n",
       "    }\n",
       "\n",
       "    .dataframe thead th {\n",
       "        text-align: left;\n",
       "    }\n",
       "\n",
       "    .dataframe tbody tr th {\n",
       "        vertical-align: top;\n",
       "    }\n",
       "</style>\n",
       "<table border=\"1\" class=\"dataframe\">\n",
       "  <thead>\n",
       "    <tr style=\"text-align: right;\">\n",
       "      <th></th>\n",
       "      <th>home_team_api_id</th>\n",
       "      <th>away_team_api_id</th>\n",
       "      <th>league_id</th>\n",
       "      <th>home_team_goal</th>\n",
       "      <th>away_team_goal</th>\n",
       "    </tr>\n",
       "  </thead>\n",
       "  <tbody>\n",
       "    <tr>\n",
       "      <th>0</th>\n",
       "      <td>1601</td>\n",
       "      <td>1957</td>\n",
       "      <td>15722.0</td>\n",
       "      <td>1.857143</td>\n",
       "      <td>0.714286</td>\n",
       "    </tr>\n",
       "    <tr>\n",
       "      <th>1</th>\n",
       "      <td>1601</td>\n",
       "      <td>2182</td>\n",
       "      <td>15722.0</td>\n",
       "      <td>1.142857</td>\n",
       "      <td>1.000000</td>\n",
       "    </tr>\n",
       "    <tr>\n",
       "      <th>2</th>\n",
       "      <td>1601</td>\n",
       "      <td>2183</td>\n",
       "      <td>15722.0</td>\n",
       "      <td>1.000000</td>\n",
       "      <td>1.600000</td>\n",
       "    </tr>\n",
       "    <tr>\n",
       "      <th>3</th>\n",
       "      <td>1601</td>\n",
       "      <td>2186</td>\n",
       "      <td>15722.0</td>\n",
       "      <td>2.166667</td>\n",
       "      <td>0.333333</td>\n",
       "    </tr>\n",
       "    <tr>\n",
       "      <th>4</th>\n",
       "      <td>1601</td>\n",
       "      <td>8019</td>\n",
       "      <td>15722.0</td>\n",
       "      <td>1.000000</td>\n",
       "      <td>2.000000</td>\n",
       "    </tr>\n",
       "  </tbody>\n",
       "</table>\n",
       "</div>"
      ],
      "text/plain": [
       "   home_team_api_id  away_team_api_id  league_id  home_team_goal  \\\n",
       "0              1601              1957    15722.0        1.857143   \n",
       "1              1601              2182    15722.0        1.142857   \n",
       "2              1601              2183    15722.0        1.000000   \n",
       "3              1601              2186    15722.0        2.166667   \n",
       "4              1601              8019    15722.0        1.000000   \n",
       "\n",
       "   away_team_goal  \n",
       "0        0.714286  \n",
       "1        1.000000  \n",
       "2        1.600000  \n",
       "3        0.333333  \n",
       "4        2.000000  "
      ]
     },
     "execution_count": 4,
     "metadata": {},
     "output_type": "execute_result"
    }
   ],
   "source": [
    "df_match = df_match [['league_id' , 'season' , 'home_team_api_id' , 'away_team_api_id' , 'home_team_goal' , \n",
    "                      'away_team_goal'] ]\n",
    "df_match_15_16 = df_match[ df_match.season == \"2015/2016\" ]\n",
    "df_match_15_16 = df_match_15_16.drop('season' ,axis=1 )\n",
    "\n",
    "df_match = df_match[ df_match.season != \"2015/2016\" ]\n",
    "\n",
    "df_match = df_match.groupby([ 'home_team_api_id' , 'away_team_api_id' ] , as_index=False).mean()\n",
    "df_match_15_16 = df_match_15_16.groupby([ 'home_team_api_id' , 'away_team_api_id' ] , as_index=False).mean()\n",
    "\n",
    "df_match.head(5)"
   ]
  },
  {
   "cell_type": "markdown",
   "metadata": {},
   "source": [
    " **Join on   'home_team_api_id'**"
   ]
  },
  {
   "cell_type": "code",
   "execution_count": 5,
   "metadata": {},
   "outputs": [
    {
     "data": {
      "text/html": [
       "<div>\n",
       "<style>\n",
       "    .dataframe thead tr:only-child th {\n",
       "        text-align: right;\n",
       "    }\n",
       "\n",
       "    .dataframe thead th {\n",
       "        text-align: left;\n",
       "    }\n",
       "\n",
       "    .dataframe tbody tr th {\n",
       "        vertical-align: top;\n",
       "    }\n",
       "</style>\n",
       "<table border=\"1\" class=\"dataframe\">\n",
       "  <thead>\n",
       "    <tr style=\"text-align: right;\">\n",
       "      <th></th>\n",
       "      <th>home_team_api_id</th>\n",
       "      <th>away_team_api_id</th>\n",
       "      <th>league_id</th>\n",
       "      <th>home_team_goal</th>\n",
       "      <th>away_team_goal</th>\n",
       "      <th>team_api_id</th>\n",
       "      <th>home_buildUpPlaySpeed</th>\n",
       "      <th>home_chanceCreationPassing</th>\n",
       "      <th>home_chanceCreationCrossing</th>\n",
       "      <th>home_defencePressure</th>\n",
       "      <th>home_team</th>\n",
       "    </tr>\n",
       "  </thead>\n",
       "  <tbody>\n",
       "    <tr>\n",
       "      <th>0</th>\n",
       "      <td>1601</td>\n",
       "      <td>1957</td>\n",
       "      <td>15722.0</td>\n",
       "      <td>1.857143</td>\n",
       "      <td>0.714286</td>\n",
       "      <td>1601</td>\n",
       "      <td>47.333333</td>\n",
       "      <td>55.5</td>\n",
       "      <td>60.333333</td>\n",
       "      <td>47.166667</td>\n",
       "      <td>Ruch Chorzów</td>\n",
       "    </tr>\n",
       "    <tr>\n",
       "      <th>1</th>\n",
       "      <td>1601</td>\n",
       "      <td>2182</td>\n",
       "      <td>15722.0</td>\n",
       "      <td>1.142857</td>\n",
       "      <td>1.000000</td>\n",
       "      <td>1601</td>\n",
       "      <td>47.333333</td>\n",
       "      <td>55.5</td>\n",
       "      <td>60.333333</td>\n",
       "      <td>47.166667</td>\n",
       "      <td>Ruch Chorzów</td>\n",
       "    </tr>\n",
       "    <tr>\n",
       "      <th>2</th>\n",
       "      <td>1601</td>\n",
       "      <td>2183</td>\n",
       "      <td>15722.0</td>\n",
       "      <td>1.000000</td>\n",
       "      <td>1.600000</td>\n",
       "      <td>1601</td>\n",
       "      <td>47.333333</td>\n",
       "      <td>55.5</td>\n",
       "      <td>60.333333</td>\n",
       "      <td>47.166667</td>\n",
       "      <td>Ruch Chorzów</td>\n",
       "    </tr>\n",
       "    <tr>\n",
       "      <th>3</th>\n",
       "      <td>1601</td>\n",
       "      <td>2186</td>\n",
       "      <td>15722.0</td>\n",
       "      <td>2.166667</td>\n",
       "      <td>0.333333</td>\n",
       "      <td>1601</td>\n",
       "      <td>47.333333</td>\n",
       "      <td>55.5</td>\n",
       "      <td>60.333333</td>\n",
       "      <td>47.166667</td>\n",
       "      <td>Ruch Chorzów</td>\n",
       "    </tr>\n",
       "    <tr>\n",
       "      <th>4</th>\n",
       "      <td>1601</td>\n",
       "      <td>8019</td>\n",
       "      <td>15722.0</td>\n",
       "      <td>1.000000</td>\n",
       "      <td>2.000000</td>\n",
       "      <td>1601</td>\n",
       "      <td>47.333333</td>\n",
       "      <td>55.5</td>\n",
       "      <td>60.333333</td>\n",
       "      <td>47.166667</td>\n",
       "      <td>Ruch Chorzów</td>\n",
       "    </tr>\n",
       "  </tbody>\n",
       "</table>\n",
       "</div>"
      ],
      "text/plain": [
       "   home_team_api_id  away_team_api_id  league_id  home_team_goal  \\\n",
       "0              1601              1957    15722.0        1.857143   \n",
       "1              1601              2182    15722.0        1.142857   \n",
       "2              1601              2183    15722.0        1.000000   \n",
       "3              1601              2186    15722.0        2.166667   \n",
       "4              1601              8019    15722.0        1.000000   \n",
       "\n",
       "   away_team_goal  team_api_id  home_buildUpPlaySpeed  \\\n",
       "0        0.714286         1601              47.333333   \n",
       "1        1.000000         1601              47.333333   \n",
       "2        1.600000         1601              47.333333   \n",
       "3        0.333333         1601              47.333333   \n",
       "4        2.000000         1601              47.333333   \n",
       "\n",
       "   home_chanceCreationPassing  home_chanceCreationCrossing  \\\n",
       "0                        55.5                    60.333333   \n",
       "1                        55.5                    60.333333   \n",
       "2                        55.5                    60.333333   \n",
       "3                        55.5                    60.333333   \n",
       "4                        55.5                    60.333333   \n",
       "\n",
       "   home_defencePressure     home_team  \n",
       "0             47.166667  Ruch Chorzów  \n",
       "1             47.166667  Ruch Chorzów  \n",
       "2             47.166667  Ruch Chorzów  \n",
       "3             47.166667  Ruch Chorzów  \n",
       "4             47.166667  Ruch Chorzów  "
      ]
     },
     "execution_count": 5,
     "metadata": {},
     "output_type": "execute_result"
    }
   ],
   "source": [
    "df_match = pd.merge(left=df_match, right=df_teamAttrs, how='inner', left_on='home_team_api_id', right_on='team_api_id') \n",
    "#######  renommer les colonnes  home    #######  \n",
    "df_match.rename(columns={'buildUpPlaySpeed':'home_buildUpPlaySpeed',\n",
    "                         'chanceCreationPassing':'home_chanceCreationPassing' ,\n",
    "                         'chanceCreationCrossing' : 'home_chanceCreationCrossing' , \n",
    "                         'defencePressure'        : 'home_defencePressure' ,\n",
    "                         'team_long_name':'home_team'\n",
    "                         }, inplace=True)\n",
    "\n",
    "df_match_15_16 = pd.merge(left=df_match_15_16, right=df_teamAttrs, how='inner', left_on='home_team_api_id', right_on='team_api_id') \n",
    "#######  renommer les colonnes  home    #######  \n",
    "df_match_15_16.rename(columns={'buildUpPlaySpeed':'home_buildUpPlaySpeed',\n",
    "                         'chanceCreationPassing':'home_chanceCreationPassing' ,\n",
    "                         'chanceCreationCrossing' : 'home_chanceCreationCrossing' , \n",
    "                         'defencePressure'        : 'home_defencePressure' ,\n",
    "                         'team_long_name':'home_team'\n",
    "                         }, inplace=True)\n",
    "df_match.head(5)"
   ]
  },
  {
   "cell_type": "markdown",
   "metadata": {},
   "source": [
    "**Join on 'away_team_api_id'**"
   ]
  },
  {
   "cell_type": "code",
   "execution_count": 7,
   "metadata": {},
   "outputs": [
    {
     "data": {
      "text/html": [
       "<div>\n",
       "<style>\n",
       "    .dataframe thead tr:only-child th {\n",
       "        text-align: right;\n",
       "    }\n",
       "\n",
       "    .dataframe thead th {\n",
       "        text-align: left;\n",
       "    }\n",
       "\n",
       "    .dataframe tbody tr th {\n",
       "        vertical-align: top;\n",
       "    }\n",
       "</style>\n",
       "<table border=\"1\" class=\"dataframe\">\n",
       "  <thead>\n",
       "    <tr style=\"text-align: right;\">\n",
       "      <th></th>\n",
       "      <th>home_team_api_id</th>\n",
       "      <th>away_team_api_id</th>\n",
       "      <th>league_id</th>\n",
       "      <th>home_team_goal</th>\n",
       "      <th>away_team_goal</th>\n",
       "      <th>team_api_id_x</th>\n",
       "      <th>home_buildUpPlaySpeed</th>\n",
       "      <th>home_chanceCreationPassing</th>\n",
       "      <th>home_chanceCreationCrossing</th>\n",
       "      <th>home_defencePressure</th>\n",
       "      <th>home_team</th>\n",
       "      <th>team_api_id_y</th>\n",
       "      <th>away_buildUpPlaySpeed</th>\n",
       "      <th>away_chanceCreationPassing</th>\n",
       "      <th>away_chanceCreationCrossing</th>\n",
       "      <th>away_defencePressure</th>\n",
       "      <th>away_team</th>\n",
       "    </tr>\n",
       "  </thead>\n",
       "  <tbody>\n",
       "    <tr>\n",
       "      <th>0</th>\n",
       "      <td>1601</td>\n",
       "      <td>1957</td>\n",
       "      <td>15722.0</td>\n",
       "      <td>1.857143</td>\n",
       "      <td>0.714286</td>\n",
       "      <td>1601</td>\n",
       "      <td>47.333333</td>\n",
       "      <td>55.500000</td>\n",
       "      <td>60.333333</td>\n",
       "      <td>47.166667</td>\n",
       "      <td>Ruch Chorzów</td>\n",
       "      <td>1957</td>\n",
       "      <td>47.166667</td>\n",
       "      <td>50.833333</td>\n",
       "      <td>36.333333</td>\n",
       "      <td>49.333333</td>\n",
       "      <td>Jagiellonia Białystok</td>\n",
       "    </tr>\n",
       "    <tr>\n",
       "      <th>1</th>\n",
       "      <td>2182</td>\n",
       "      <td>1957</td>\n",
       "      <td>15722.0</td>\n",
       "      <td>2.428571</td>\n",
       "      <td>0.571429</td>\n",
       "      <td>2182</td>\n",
       "      <td>60.333333</td>\n",
       "      <td>56.666667</td>\n",
       "      <td>57.333333</td>\n",
       "      <td>51.666667</td>\n",
       "      <td>Lech Poznań</td>\n",
       "      <td>1957</td>\n",
       "      <td>47.166667</td>\n",
       "      <td>50.833333</td>\n",
       "      <td>36.333333</td>\n",
       "      <td>49.333333</td>\n",
       "      <td>Jagiellonia Białystok</td>\n",
       "    </tr>\n",
       "    <tr>\n",
       "      <th>2</th>\n",
       "      <td>2183</td>\n",
       "      <td>1957</td>\n",
       "      <td>15722.0</td>\n",
       "      <td>1.800000</td>\n",
       "      <td>0.400000</td>\n",
       "      <td>2183</td>\n",
       "      <td>32.750000</td>\n",
       "      <td>48.000000</td>\n",
       "      <td>49.750000</td>\n",
       "      <td>49.500000</td>\n",
       "      <td>P. Warszawa</td>\n",
       "      <td>1957</td>\n",
       "      <td>47.166667</td>\n",
       "      <td>50.833333</td>\n",
       "      <td>36.333333</td>\n",
       "      <td>49.333333</td>\n",
       "      <td>Jagiellonia Białystok</td>\n",
       "    </tr>\n",
       "    <tr>\n",
       "      <th>3</th>\n",
       "      <td>2186</td>\n",
       "      <td>1957</td>\n",
       "      <td>15722.0</td>\n",
       "      <td>1.166667</td>\n",
       "      <td>0.333333</td>\n",
       "      <td>2186</td>\n",
       "      <td>41.400000</td>\n",
       "      <td>55.400000</td>\n",
       "      <td>49.600000</td>\n",
       "      <td>59.000000</td>\n",
       "      <td>Cracovia</td>\n",
       "      <td>1957</td>\n",
       "      <td>47.166667</td>\n",
       "      <td>50.833333</td>\n",
       "      <td>36.333333</td>\n",
       "      <td>49.333333</td>\n",
       "      <td>Jagiellonia Białystok</td>\n",
       "    </tr>\n",
       "    <tr>\n",
       "      <th>4</th>\n",
       "      <td>8019</td>\n",
       "      <td>1957</td>\n",
       "      <td>15722.0</td>\n",
       "      <td>0.000000</td>\n",
       "      <td>0.000000</td>\n",
       "      <td>8019</td>\n",
       "      <td>41.000000</td>\n",
       "      <td>41.000000</td>\n",
       "      <td>44.000000</td>\n",
       "      <td>52.000000</td>\n",
       "      <td>Górnik Łęczna</td>\n",
       "      <td>1957</td>\n",
       "      <td>47.166667</td>\n",
       "      <td>50.833333</td>\n",
       "      <td>36.333333</td>\n",
       "      <td>49.333333</td>\n",
       "      <td>Jagiellonia Białystok</td>\n",
       "    </tr>\n",
       "  </tbody>\n",
       "</table>\n",
       "</div>"
      ],
      "text/plain": [
       "   home_team_api_id  away_team_api_id  league_id  home_team_goal  \\\n",
       "0              1601              1957    15722.0        1.857143   \n",
       "1              2182              1957    15722.0        2.428571   \n",
       "2              2183              1957    15722.0        1.800000   \n",
       "3              2186              1957    15722.0        1.166667   \n",
       "4              8019              1957    15722.0        0.000000   \n",
       "\n",
       "   away_team_goal  team_api_id_x  home_buildUpPlaySpeed  \\\n",
       "0        0.714286           1601              47.333333   \n",
       "1        0.571429           2182              60.333333   \n",
       "2        0.400000           2183              32.750000   \n",
       "3        0.333333           2186              41.400000   \n",
       "4        0.000000           8019              41.000000   \n",
       "\n",
       "   home_chanceCreationPassing  home_chanceCreationCrossing  \\\n",
       "0                   55.500000                    60.333333   \n",
       "1                   56.666667                    57.333333   \n",
       "2                   48.000000                    49.750000   \n",
       "3                   55.400000                    49.600000   \n",
       "4                   41.000000                    44.000000   \n",
       "\n",
       "   home_defencePressure      home_team  team_api_id_y  away_buildUpPlaySpeed  \\\n",
       "0             47.166667   Ruch Chorzów           1957              47.166667   \n",
       "1             51.666667    Lech Poznań           1957              47.166667   \n",
       "2             49.500000    P. Warszawa           1957              47.166667   \n",
       "3             59.000000       Cracovia           1957              47.166667   \n",
       "4             52.000000  Górnik Łęczna           1957              47.166667   \n",
       "\n",
       "   away_chanceCreationPassing  away_chanceCreationCrossing  \\\n",
       "0                   50.833333                    36.333333   \n",
       "1                   50.833333                    36.333333   \n",
       "2                   50.833333                    36.333333   \n",
       "3                   50.833333                    36.333333   \n",
       "4                   50.833333                    36.333333   \n",
       "\n",
       "   away_defencePressure              away_team  \n",
       "0             49.333333  Jagiellonia Białystok  \n",
       "1             49.333333  Jagiellonia Białystok  \n",
       "2             49.333333  Jagiellonia Białystok  \n",
       "3             49.333333  Jagiellonia Białystok  \n",
       "4             49.333333  Jagiellonia Białystok  "
      ]
     },
     "execution_count": 7,
     "metadata": {},
     "output_type": "execute_result"
    }
   ],
   "source": [
    "df_match = pd.merge(left=df_match, right=df_teamAttrs, how='inner', left_on='away_team_api_id', right_on='team_api_id')\n",
    "#######  renommer les colonnes away    #######  \n",
    "df_match.rename(columns={'buildUpPlaySpeed':'away_buildUpPlaySpeed',\n",
    "                         'chanceCreationPassing':'away_chanceCreationPassing' ,\n",
    "                         'chanceCreationCrossing' : 'away_chanceCreationCrossing' , \n",
    "                         'defencePressure'        : 'away_defencePressure' ,\n",
    "                        'team_long_name':'away_team'\n",
    "                         }, inplace=True)\n",
    "\n",
    "\n",
    "######################   15 / 16 ####################\n",
    "df_match_15_16 = pd.merge(left=df_match_15_16, right=df_teamAttrs, how='inner', left_on='away_team_api_id', right_on='team_api_id')\n",
    "#######  renommer les colonnes away    #######  \n",
    "df_match_15_16.rename(columns={'buildUpPlaySpeed':'away_buildUpPlaySpeed',\n",
    "                         'chanceCreationPassing':'away_chanceCreationPassing' ,\n",
    "                         'chanceCreationCrossing' : 'away_chanceCreationCrossing' , \n",
    "                         'defencePressure'        : 'away_defencePressure' ,\n",
    "                        'team_long_name':'away_team'\n",
    "                         }, inplace=True)\n",
    "\n",
    "df_match.head(5)"
   ]
  },
  {
   "cell_type": "markdown",
   "metadata": {},
   "source": [
    "**Create Pertinent Columns & Delete additional ones** "
   ]
  },
  {
   "cell_type": "code",
   "execution_count": 8,
   "metadata": {
    "scrolled": true
   },
   "outputs": [
    {
     "data": {
      "text/html": [
       "<div>\n",
       "<style>\n",
       "    .dataframe thead tr:only-child th {\n",
       "        text-align: right;\n",
       "    }\n",
       "\n",
       "    .dataframe thead th {\n",
       "        text-align: left;\n",
       "    }\n",
       "\n",
       "    .dataframe tbody tr th {\n",
       "        vertical-align: top;\n",
       "    }\n",
       "</style>\n",
       "<table border=\"1\" class=\"dataframe\">\n",
       "  <thead>\n",
       "    <tr style=\"text-align: right;\">\n",
       "      <th></th>\n",
       "      <th>home_team_api_id</th>\n",
       "      <th>away_team_api_id</th>\n",
       "      <th>league_id</th>\n",
       "      <th>home_team</th>\n",
       "      <th>away_team</th>\n",
       "      <th>goal_diff</th>\n",
       "      <th>Speed</th>\n",
       "      <th>chance_pass</th>\n",
       "      <th>chance_cross</th>\n",
       "      <th>defence_press</th>\n",
       "      <th>final_class</th>\n",
       "    </tr>\n",
       "  </thead>\n",
       "  <tbody>\n",
       "    <tr>\n",
       "      <th>0</th>\n",
       "      <td>1601</td>\n",
       "      <td>1957</td>\n",
       "      <td>15722.0</td>\n",
       "      <td>Ruch Chorzów</td>\n",
       "      <td>Jagiellonia Białystok</td>\n",
       "      <td>1.142857</td>\n",
       "      <td>0.166667</td>\n",
       "      <td>4.666667</td>\n",
       "      <td>24.000000</td>\n",
       "      <td>-2.166667</td>\n",
       "      <td>win</td>\n",
       "    </tr>\n",
       "    <tr>\n",
       "      <th>1</th>\n",
       "      <td>2182</td>\n",
       "      <td>1957</td>\n",
       "      <td>15722.0</td>\n",
       "      <td>Lech Poznań</td>\n",
       "      <td>Jagiellonia Białystok</td>\n",
       "      <td>1.857143</td>\n",
       "      <td>13.166667</td>\n",
       "      <td>5.833333</td>\n",
       "      <td>21.000000</td>\n",
       "      <td>2.333333</td>\n",
       "      <td>win</td>\n",
       "    </tr>\n",
       "    <tr>\n",
       "      <th>2</th>\n",
       "      <td>2183</td>\n",
       "      <td>1957</td>\n",
       "      <td>15722.0</td>\n",
       "      <td>P. Warszawa</td>\n",
       "      <td>Jagiellonia Białystok</td>\n",
       "      <td>1.400000</td>\n",
       "      <td>-14.416667</td>\n",
       "      <td>-2.833333</td>\n",
       "      <td>13.416667</td>\n",
       "      <td>0.166667</td>\n",
       "      <td>win</td>\n",
       "    </tr>\n",
       "    <tr>\n",
       "      <th>3</th>\n",
       "      <td>2186</td>\n",
       "      <td>1957</td>\n",
       "      <td>15722.0</td>\n",
       "      <td>Cracovia</td>\n",
       "      <td>Jagiellonia Białystok</td>\n",
       "      <td>0.833333</td>\n",
       "      <td>-5.766667</td>\n",
       "      <td>4.566667</td>\n",
       "      <td>13.266667</td>\n",
       "      <td>9.666667</td>\n",
       "      <td>win</td>\n",
       "    </tr>\n",
       "    <tr>\n",
       "      <th>4</th>\n",
       "      <td>8019</td>\n",
       "      <td>1957</td>\n",
       "      <td>15722.0</td>\n",
       "      <td>Górnik Łęczna</td>\n",
       "      <td>Jagiellonia Białystok</td>\n",
       "      <td>0.000000</td>\n",
       "      <td>-6.166667</td>\n",
       "      <td>-9.833333</td>\n",
       "      <td>7.666667</td>\n",
       "      <td>2.666667</td>\n",
       "      <td>draw</td>\n",
       "    </tr>\n",
       "  </tbody>\n",
       "</table>\n",
       "</div>"
      ],
      "text/plain": [
       "   home_team_api_id  away_team_api_id  league_id      home_team  \\\n",
       "0              1601              1957    15722.0   Ruch Chorzów   \n",
       "1              2182              1957    15722.0    Lech Poznań   \n",
       "2              2183              1957    15722.0    P. Warszawa   \n",
       "3              2186              1957    15722.0       Cracovia   \n",
       "4              8019              1957    15722.0  Górnik Łęczna   \n",
       "\n",
       "               away_team  goal_diff      Speed  chance_pass  chance_cross  \\\n",
       "0  Jagiellonia Białystok   1.142857   0.166667     4.666667     24.000000   \n",
       "1  Jagiellonia Białystok   1.857143  13.166667     5.833333     21.000000   \n",
       "2  Jagiellonia Białystok   1.400000 -14.416667    -2.833333     13.416667   \n",
       "3  Jagiellonia Białystok   0.833333  -5.766667     4.566667     13.266667   \n",
       "4  Jagiellonia Białystok   0.000000  -6.166667    -9.833333      7.666667   \n",
       "\n",
       "   defence_press final_class  \n",
       "0      -2.166667         win  \n",
       "1       2.333333         win  \n",
       "2       0.166667         win  \n",
       "3       9.666667         win  \n",
       "4       2.666667        draw  "
      ]
     },
     "execution_count": 8,
     "metadata": {},
     "output_type": "execute_result"
    }
   ],
   "source": [
    "df_match['goal_diff' ] = df_match['home_team_goal']- df_match['away_team_goal'] \n",
    "df_match['Speed'] = df_match['home_buildUpPlaySpeed']- df_match['away_buildUpPlaySpeed'] \n",
    "df_match['chance_pass'] = df_match['home_chanceCreationPassing'] - df_match['away_chanceCreationPassing']\n",
    "df_match['chance_cross'] = df_match['home_chanceCreationCrossing']  - df_match['away_chanceCreationCrossing']\n",
    "df_match['defence_press'] = df_match['home_defencePressure'] - df_match['away_defencePressure']\n",
    "############# supprimer les colonnes renommées \n",
    "df_match.drop( [ 'home_team_goal' ,'away_team_goal' , 'home_buildUpPlaySpeed' , 'home_chanceCreationPassing' , 'home_chanceCreationCrossing', 'home_defencePressure', \n",
    "           'away_buildUpPlaySpeed' , 'away_chanceCreationPassing' , 'away_chanceCreationCrossing' , 'away_defencePressure' , \n",
    "           'team_api_id_x' , 'team_api_id_y'] , axis=1, inplace=True) \n",
    "\n",
    "df_match['final_class'] = df_match['goal_diff'].apply( lambda x: 'loss' if x<0 else ('win' if x>0 else 'draw') )\n",
    "\n",
    "###############################################   2015 / 2016  ############################################### \n",
    "df_match_15_16['goal_diff' ] = df_match_15_16['home_team_goal']- df_match_15_16['away_team_goal'] \n",
    "df_match_15_16['Speed'] = df_match_15_16['home_buildUpPlaySpeed']- df_match_15_16['away_buildUpPlaySpeed'] \n",
    "df_match_15_16['chance_pass'] = df_match_15_16['home_chanceCreationPassing'] - df_match_15_16['away_chanceCreationPassing']\n",
    "df_match_15_16['chance_cross'] = df_match_15_16['home_chanceCreationCrossing']  - df_match_15_16['away_chanceCreationCrossing']\n",
    "df_match_15_16['defence_press'] = df_match_15_16['home_defencePressure'] - df_match_15_16['away_defencePressure']\n",
    "############# supprimer les colonnes renommées \n",
    "df_match_15_16.drop( [ 'home_team_goal' ,'away_team_goal' , 'home_buildUpPlaySpeed' , 'home_chanceCreationPassing' , 'home_chanceCreationCrossing', 'home_defencePressure', \n",
    "           'away_buildUpPlaySpeed' , 'away_chanceCreationPassing' , 'away_chanceCreationCrossing' , 'away_defencePressure' , \n",
    "           'team_api_id_x' , 'team_api_id_y'] , axis=1, inplace=True) \n",
    "\n",
    "df_match_15_16['final_class'] = df_match_15_16['goal_diff'].apply( lambda x: 'loss' if x<0 else ('win' if x>0 else 'draw') )\n",
    "\n",
    "df_match.head(5)"
   ]
  },
  {
   "cell_type": "code",
   "execution_count": 33,
   "metadata": {},
   "outputs": [
    {
     "data": {
      "text/html": [
       "<div>\n",
       "<style>\n",
       "    .dataframe thead tr:only-child th {\n",
       "        text-align: right;\n",
       "    }\n",
       "\n",
       "    .dataframe thead th {\n",
       "        text-align: left;\n",
       "    }\n",
       "\n",
       "    .dataframe tbody tr th {\n",
       "        vertical-align: top;\n",
       "    }\n",
       "</style>\n",
       "<table border=\"1\" class=\"dataframe\">\n",
       "  <thead>\n",
       "    <tr style=\"text-align: right;\">\n",
       "      <th></th>\n",
       "      <th>home_team_api_id</th>\n",
       "      <th>away_team_api_id</th>\n",
       "      <th>league_id</th>\n",
       "      <th>home_team</th>\n",
       "      <th>away_team</th>\n",
       "      <th>goal_diff</th>\n",
       "      <th>Speed</th>\n",
       "      <th>chance_pass</th>\n",
       "      <th>chance_cross</th>\n",
       "      <th>defence_press</th>\n",
       "      <th>final_class</th>\n",
       "    </tr>\n",
       "  </thead>\n",
       "  <tbody>\n",
       "    <tr>\n",
       "      <th>0</th>\n",
       "      <td>1601</td>\n",
       "      <td>1957</td>\n",
       "      <td>15722.0</td>\n",
       "      <td>Ruch Chorzów</td>\n",
       "      <td>Jagiellonia Białystok</td>\n",
       "      <td>0.794118</td>\n",
       "      <td>0.502551</td>\n",
       "      <td>0.568966</td>\n",
       "      <td>0.825792</td>\n",
       "      <td>0.468293</td>\n",
       "      <td>loss</td>\n",
       "    </tr>\n",
       "    <tr>\n",
       "      <th>1</th>\n",
       "      <td>2182</td>\n",
       "      <td>1957</td>\n",
       "      <td>15722.0</td>\n",
       "      <td>Lech Poznań</td>\n",
       "      <td>Jagiellonia Białystok</td>\n",
       "      <td>0.911765</td>\n",
       "      <td>0.701531</td>\n",
       "      <td>0.586207</td>\n",
       "      <td>0.785068</td>\n",
       "      <td>0.534146</td>\n",
       "      <td>loss</td>\n",
       "    </tr>\n",
       "    <tr>\n",
       "      <th>2</th>\n",
       "      <td>2186</td>\n",
       "      <td>1957</td>\n",
       "      <td>15722.0</td>\n",
       "      <td>Cracovia</td>\n",
       "      <td>Jagiellonia Białystok</td>\n",
       "      <td>1.029412</td>\n",
       "      <td>0.411735</td>\n",
       "      <td>0.567488</td>\n",
       "      <td>0.680090</td>\n",
       "      <td>0.641463</td>\n",
       "      <td>draw</td>\n",
       "    </tr>\n",
       "  </tbody>\n",
       "</table>\n",
       "</div>"
      ],
      "text/plain": [
       "   home_team_api_id  away_team_api_id  league_id     home_team  \\\n",
       "0              1601              1957    15722.0  Ruch Chorzów   \n",
       "1              2182              1957    15722.0   Lech Poznań   \n",
       "2              2186              1957    15722.0      Cracovia   \n",
       "\n",
       "               away_team  goal_diff     Speed  chance_pass  chance_cross  \\\n",
       "0  Jagiellonia Białystok   0.794118  0.502551     0.568966      0.825792   \n",
       "1  Jagiellonia Białystok   0.911765  0.701531     0.586207      0.785068   \n",
       "2  Jagiellonia Białystok   1.029412  0.411735     0.567488      0.680090   \n",
       "\n",
       "   defence_press final_class  \n",
       "0       0.468293        loss  \n",
       "1       0.534146        loss  \n",
       "2       0.641463        draw  "
      ]
     },
     "execution_count": 33,
     "metadata": {},
     "output_type": "execute_result"
    }
   ],
   "source": [
    "df_match_15_16.head(3)"
   ]
  },
  {
   "cell_type": "markdown",
   "metadata": {},
   "source": [
    "#### Test Train Split"
   ]
  },
  {
   "cell_type": "code",
   "execution_count": 11,
   "metadata": {
    "collapsed": true
   },
   "outputs": [],
   "source": [
    "train = df_match\n",
    "test = df_match_15_16"
   ]
  },
  {
   "cell_type": "markdown",
   "metadata": {},
   "source": [
    "\n",
    "**Normalization function**"
   ]
  },
  {
   "cell_type": "code",
   "execution_count": 12,
   "metadata": {
    "collapsed": true
   },
   "outputs": [],
   "source": [
    "def normalisation(df) :\n",
    "    for col in ['goal_diff', 'Speed' , 'chance_pass' , 'chance_cross' ,'defence_press' ] :\n",
    "        min , max = df[col].min() , df[col].max()\n",
    "        #abs   par prévension\n",
    "        df[col] = df[col].apply( lambda x: (x- min) * 1.0 /  abs(max - min)  )\n",
    "        \n",
    "    return df"
   ]
  },
  {
   "cell_type": "markdown",
   "metadata": {},
   "source": [
    "## Part 4 - Experimental Protocol"
   ]
  },
  {
   "cell_type": "markdown",
   "metadata": {},
   "source": [
    "#### Decision Tree"
   ]
  },
  {
   "cell_type": "code",
   "execution_count": 13,
   "metadata": {},
   "outputs": [
    {
     "name": "stdout",
     "output_type": "stream",
     "text": [
      "le nombre d exemples pour le Training : 6325\n",
      "le nombre d exemples pour le Test : 3026\n",
      "La prediction avec une Decision Tree est avec une accuracy de  0.2534699272967614\n"
     ]
    }
   ],
   "source": [
    "train, test = df_match , df_match_15_16\n",
    "print('le nombre d exemples pour le Training :', len(train))\n",
    "print('le nombre d exemples pour le Test :',len(test))\n",
    "features = ['goal_diff', 'Speed' , 'chance_pass' , 'chance_cross' ,'defence_press' ]\n",
    "y = pd.factorize(train['final_class'])[0]\n",
    "\n",
    "clf = DecisionTreeClassifier()\n",
    "clf.fit(train[features], y)\n",
    "\n",
    "\n",
    "from sklearn.metrics import accuracy_score\n",
    "preds = clf.predict(test[features])\n",
    "trues  = pd.factorize(test['final_class'])[0]\n",
    "print ( 'La prediction avec une Decision Tree est avec une accuracy de ',accuracy_score(trues,preds)  )"
   ]
  },
  {
   "cell_type": "markdown",
   "metadata": {},
   "source": [
    "#### Random Forest"
   ]
  },
  {
   "cell_type": "code",
   "execution_count": 14,
   "metadata": {},
   "outputs": [
    {
     "name": "stdout",
     "output_type": "stream",
     "text": [
      "La prediction avec une Random Forest est avec une accuracy de  0.2534699272967614\n"
     ]
    }
   ],
   "source": [
    "clf = RandomForestClassifier(5)\n",
    "clf.fit(train[features], y)\n",
    "\n",
    "\n",
    "from sklearn.metrics import accuracy_score\n",
    "preds = clf.predict(test[features])\n",
    "trues  = pd.factorize(test['final_class'])[0]\n",
    "print ( 'La prediction avec une Random Forest est avec une accuracy de ',accuracy_score(trues,preds)  )"
   ]
  },
  {
   "cell_type": "markdown",
   "metadata": {},
   "source": [
    "**KNN with original data**"
   ]
  },
  {
   "cell_type": "code",
   "execution_count": 15,
   "metadata": {},
   "outputs": [
    {
     "name": "stdout",
     "output_type": "stream",
     "text": [
      "La prediction avec un KNN  non normalisé est avec une accuracy de  0.596827495042961\n"
     ]
    }
   ],
   "source": [
    "X_train = train.as_matrix(columns=['goal_diff', 'Speed' , 'chance_pass' , 'chance_cross' ,'defence_press' ])\n",
    "Y_train  = np.array(train['final_class'])\n",
    "X_test = test.as_matrix(columns=['goal_diff', 'Speed' , 'chance_pass' , 'chance_cross' ,'defence_press' ])\n",
    "Y_test = np.array(test['final_class'])\n",
    "\n",
    "acc = list()\n",
    "for k in range ( 2 , 500 ) :\n",
    "    clf = KNeighborsClassifier( k )\n",
    "    trained_model = clf.fit( X_train , Y_train )\n",
    "    acc.append ( trained_model.score( X_test , Y_test ) )\n",
    "    \n",
    "print ( 'La prediction avec un KNN  non normalisé est avec une accuracy de ', max(acc) )"
   ]
  },
  {
   "cell_type": "code",
   "execution_count": 16,
   "metadata": {},
   "outputs": [
    {
     "data": {
      "image/png": "[encoded data removed]",
      "text/plain": [
       "<matplotlib.figure.Figure at 0x7f3bf44b0c88>"
      ]
     },
     "metadata": {},
     "output_type": "display_data"
    }
   ],
   "source": [
    "plt.plot( list(range(2,500)) , acc ,'r' )\n",
    "plt.title(\"le taux de prediction obtenu en augmentant le k de 2 a 500\")\n",
    "plt.legend('Accuracy' , loc='lower right')\n",
    "plt.show()"
   ]
  },
  {
   "cell_type": "code",
   "execution_count": 17,
   "metadata": {},
   "outputs": [
    {
     "name": "stdout",
     "output_type": "stream",
     "text": [
      "Meilleure valeur de K est :  11\n"
     ]
    }
   ],
   "source": [
    "print (\"Meilleure valeur de K est : \",acc.index(max(acc)) + 2 )"
   ]
  },
  {
   "cell_type": "markdown",
   "metadata": {},
   "source": [
    "#### with normalization"
   ]
  },
  {
   "cell_type": "code",
   "execution_count": 18,
   "metadata": {
    "scrolled": true
   },
   "outputs": [
    {
     "name": "stdout",
     "output_type": "stream",
     "text": [
      "La prediction avec un KNN  normalisé est avec une accuracy de  0.7395902181097158\n"
     ]
    }
   ],
   "source": [
    "train_norm = normalisation(train).loc[0:,]\n",
    "test_norm  = normalisation(test).loc[0:,]\n",
    "\n",
    "X_train_norm = train_norm.as_matrix(columns=['goal_diff', 'Speed' , 'chance_pass' , 'chance_cross' ,'defence_press' ])\n",
    "Y_train_norm   = np.array(train_norm['final_class'])\n",
    "X_test_norm  = test_norm.as_matrix(columns=['goal_diff', 'Speed' , 'chance_pass' , 'chance_cross' ,'defence_press' ])\n",
    "Y_test_norm  = np.array(test_norm['final_class'])\n",
    "\n",
    "acc = list()\n",
    "for k in range ( 2 , 500 ) :\n",
    "    clf = KNeighborsClassifier( k )\n",
    "    trained_model = clf.fit( X_train_norm , Y_train_norm )\n",
    "    acc.append ( trained_model.score( X_test_norm , Y_test_norm ) )\n",
    "    \n",
    "print ( 'La prediction avec un KNN  normalisé est avec une accuracy de ', max(acc) )\n"
   ]
  },
  {
   "cell_type": "code",
   "execution_count": 19,
   "metadata": {},
   "outputs": [
    {
     "data": {
      "image/png": "[encoded data removed]",
      "text/plain": [
       "<matplotlib.figure.Figure at 0x7f3bf4076438>"
      ]
     },
     "metadata": {},
     "output_type": "display_data"
    }
   ],
   "source": [
    "plt.plot( list(range(2,500)) , acc ,'r' )\n",
    "plt.title(\"le taux de prediction obtenu en augmentant le k de 2 a 500 avec normalisation \")\n",
    "plt.legend('Accuracy' , loc='lower right')\n",
    "plt.show()"
   ]
  },
  {
   "cell_type": "code",
   "execution_count": 20,
   "metadata": {},
   "outputs": [
    {
     "name": "stdout",
     "output_type": "stream",
     "text": [
      "Meilleure valeur de K est :  69\n"
     ]
    }
   ],
   "source": [
    "print (\"Meilleure valeur de K est : \",acc.index(max(acc)) + 2 )"
   ]
  },
  {
   "cell_type": "markdown",
   "metadata": {},
   "source": [
    "### Comparing different leagues"
   ]
  },
  {
   "cell_type": "code",
   "execution_count": 21,
   "metadata": {},
   "outputs": [],
   "source": [
    "test_leagues = pd.merge(test_norm , df_leagues , left_on='league_id', right_on='id' , how='inner')\n",
    "test_leagues.drop( ['country_id' , 'league_id' ] , axis=1 , inplace=True ) \n",
    "\n",
    "leagues = [ 'Belgium Jupiler League' , 'England Premier League' ,'France Ligue 1' , 'Germany 1. Bundesliga' ,'Italy Serie A',\n",
    "           'Netherlands Eredivisie' , 'Poland Ekstraklasa' , 'Portugal Liga ZON Sagres' , 'Scotland Premier League' , \n",
    "           'Spain LIGA BBVA' , 'Switzerland Super League' ]\n",
    "\n",
    "\n",
    "clf = KNeighborsClassifier( acc.index(max(acc)) + 2 )\n",
    "trained_model = clf.fit( X_train_norm , Y_train_norm )\n",
    "\n",
    "scores = list()\n",
    "for league in leagues :\n",
    "    test_league = test_leagues [ test_leagues ['name'] == league ]\n",
    "    X_test_league = test_league.as_matrix(columns=['goal_diff', 'Speed' , 'chance_pass' , 'chance_cross' ,'defence_press' ])\n",
    "    Y_test_league = np.array(test_league['final_class'])    \n",
    "    scores.append ( trained_model.score( X_test_league , Y_test_league ) ) \n"
   ]
  },
  {
   "cell_type": "code",
   "execution_count": 22,
   "metadata": {},
   "outputs": [
    {
     "data": {
      "image/png": "[encoded data removed]",
      "text/plain": [
       "<matplotlib.figure.Figure at 0x7f3bf3ff9048>"
      ]
     },
     "metadata": {},
     "output_type": "display_data"
    }
   ],
   "source": [
    "plt.rcdefaults()\n",
    "fig, ax = plt.subplots()\n",
    "\n",
    "y_pos = np.arange(len(leagues))\n",
    "performance = scores\n",
    "error = np.random.rand(len(leagues))\n",
    "\n",
    "ax.barh(y_pos, performance, align='center',\n",
    "        color='tomato' )\n",
    "ax.set_yticks(y_pos)\n",
    "ax.set_yticklabels(leagues)\n",
    "ax.set_xlabel('Performance')\n",
    "ax.set_title('Leagues accuracy')\n",
    "ax.set_xlim([0,1])\n",
    "\n",
    "plt.show()"
   ]
  },
  {
   "cell_type": "markdown",
   "metadata": {},
   "source": [
    "###  Jouer à domicile peut-t-il être une information pertinente qui peut améliorer l'accuracy ?"
   ]
  },
  {
   "cell_type": "code",
   "execution_count": 23,
   "metadata": {
    "collapsed": true
   },
   "outputs": [],
   "source": [
    "df_match_new =  pd.read_csv('../soccer/match.csv')"
   ]
  },
  {
   "cell_type": "code",
   "execution_count": 24,
   "metadata": {},
   "outputs": [
    {
     "data": {
      "text/html": [
       "<div>\n",
       "<style>\n",
       "    .dataframe thead tr:only-child th {\n",
       "        text-align: right;\n",
       "    }\n",
       "\n",
       "    .dataframe thead th {\n",
       "        text-align: left;\n",
       "    }\n",
       "\n",
       "    .dataframe tbody tr th {\n",
       "        vertical-align: top;\n",
       "    }\n",
       "</style>\n",
       "<table border=\"1\" class=\"dataframe\">\n",
       "  <thead>\n",
       "    <tr style=\"text-align: right;\">\n",
       "      <th></th>\n",
       "      <th>home_team_goal</th>\n",
       "      <th>away_team_goal</th>\n",
       "      <th>season</th>\n",
       "    </tr>\n",
       "  </thead>\n",
       "  <tbody>\n",
       "    <tr>\n",
       "      <th>0</th>\n",
       "      <td>1</td>\n",
       "      <td>1</td>\n",
       "      <td>2008/2009</td>\n",
       "    </tr>\n",
       "    <tr>\n",
       "      <th>1</th>\n",
       "      <td>0</td>\n",
       "      <td>0</td>\n",
       "      <td>2008/2009</td>\n",
       "    </tr>\n",
       "    <tr>\n",
       "      <th>2</th>\n",
       "      <td>0</td>\n",
       "      <td>3</td>\n",
       "      <td>2008/2009</td>\n",
       "    </tr>\n",
       "  </tbody>\n",
       "</table>\n",
       "</div>"
      ],
      "text/plain": [
       "   home_team_goal  away_team_goal     season\n",
       "0               1               1  2008/2009\n",
       "1               0               0  2008/2009\n",
       "2               0               3  2008/2009"
      ]
     },
     "execution_count": 24,
     "metadata": {},
     "output_type": "execute_result"
    }
   ],
   "source": [
    "df_match_new = df_match_new [['home_team_goal','away_team_goal','season']]\n",
    "df_match_new.head(3)"
   ]
  },
  {
   "cell_type": "code",
   "execution_count": 25,
   "metadata": {},
   "outputs": [
    {
     "data": {
      "text/plain": [
       "['2008/2009',\n",
       " '2009/2010',\n",
       " '2010/2011',\n",
       " '2011/2012',\n",
       " '2012/2013',\n",
       " '2013/2014',\n",
       " '2014/2015',\n",
       " '2015/2016']"
      ]
     },
     "execution_count": 25,
     "metadata": {},
     "output_type": "execute_result"
    }
   ],
   "source": [
    "seasons = list(df_match_new.season.unique())\n",
    "seasons"
   ]
  },
  {
   "cell_type": "code",
   "execution_count": 26,
   "metadata": {},
   "outputs": [
    {
     "name": "stdout",
     "output_type": "stream",
     "text": [
      "wins : [47.083583884546, 47.43034055727554, 46.625766871165645, 46.52173913043478, 44.29447852760736, 46.306068601583114, 44.932330827067666, 43.86650631389056]\n",
      "draws : [24.984966927239928, 25.20123839009288, 25.736196319018404, 25.403726708074533, 26.165644171779142, 24.274406332453825, 25.56390977443609, 25.706554419723393]\n",
      "loss : [27.93144918821407, 27.36842105263158, 27.63803680981595, 28.074534161490682, 29.539877300613497, 29.41952506596306, 29.50375939849624, 30.42693926638605]\n"
     ]
    }
   ],
   "source": [
    "wins = []\n",
    "draws = []\n",
    "loss = []\n",
    "\n",
    "for season in seasons :\n",
    "    win_count = len ( df_match_new.loc[( df_match_new.season == season ) \n",
    "                      & (df_match_new.home_team_goal > df_match_new.away_team_goal) ,   ] )\n",
    "    draw_count =  len ( df_match_new.loc[( df_match_new.season == season ) \n",
    "                      & (df_match_new.home_team_goal == df_match_new.away_team_goal) ,   ] )\n",
    "    loss_count = len ( df_match_new.loc[( df_match_new.season ==  season ) \n",
    "                      & (df_match_new.home_team_goal < df_match_new.away_team_goal) ,   ] )\n",
    "    total      = len ( df_match_new.loc[( df_match_new.season == season )  ,   ] )\n",
    "    wins.append (win_count*100.0 /total )\n",
    "    draws.append (draw_count*100.0 /total )\n",
    "    loss.append (loss_count*100.0 /total )\n",
    "    \n",
    "    \n",
    "print ( \"wins :\" , wins )\n",
    "print ( \"draws :\" , draws )\n",
    "print ( \"loss :\" , loss )"
   ]
  },
  {
   "cell_type": "code",
   "execution_count": 32,
   "metadata": {},
   "outputs": [
    {
     "data": {
      "text/plain": [
       "<matplotlib.legend.Legend at 0x7f3bf2f19390>"
      ]
     },
     "execution_count": 32,
     "metadata": {},
     "output_type": "execute_result"
    },
    {
     "data": {
      "image/png": "[encoded data removed]",
      "text/plain": [
       "<matplotlib.figure.Figure at 0x7f3bf2db0a20>"
      ]
     },
     "metadata": {},
     "output_type": "display_data"
    }
   ],
   "source": [
    "fig, ax = plt.subplots()\n",
    "ax.plot(seasons, wins, 'g-o' , label=\"wins (%)\" )\n",
    "ax.plot(seasons, draws, 'b-o' , label=\"draws (%)\")\n",
    "ax.plot(seasons, loss, 'r-o' , label=\"loss (%)\")\n",
    "\n",
    "ax.grid()\n",
    "plt.xticks(rotation='45')\n",
    "ax.legend()"
   ]
  },
  {
   "cell_type": "code",
   "execution_count": 28,
   "metadata": {},
   "outputs": [
    {
     "data": {
      "text/plain": [
       "5135"
      ]
     },
     "execution_count": 28,
     "metadata": {},
     "output_type": "execute_result"
    }
   ],
   "source": [
    "df_match_new.loc[( df_match_new.season == '2015/2016' ) ,   ]['home_team_goal'].sum()"
   ]
  },
  {
   "cell_type": "code",
   "execution_count": 29,
   "metadata": {},
   "outputs": [
    {
     "name": "stdout",
     "output_type": "stream",
     "text": [
      "home goals [57.73754612546126, 57.66913809082484, 57.69802263115785, 57.89413513204527, 55.90220157097024, 57.06282035999523, 56.8169045745757, 56.046714691115476]\n",
      "away goals [42.26245387453874, 42.33086190917516, 42.30197736884215, 42.10586486795473, 44.09779842902976, 42.93717964000477, 43.1830954254243, 43.953285308884524]\n"
     ]
    }
   ],
   "source": [
    "home_goals = []\n",
    "away_goals = []\n",
    "\n",
    "for season in seasons :\n",
    "    home_count =  df_match_new.loc[( df_match_new.season == season ) ,   ]['home_team_goal'].sum()\n",
    "    away_count =  df_match_new.loc[( df_match_new.season == season ) ,   ]['away_team_goal'].sum()\n",
    "    total      = home_count + away_count\n",
    "    home_goals.append (home_count*100.0 /total )\n",
    "    away_goals.append (away_count*100.0 /total )\n",
    "    \n",
    "    \n",
    "print ( \"home goals\" , home_goals )\n",
    "print ( \"away goals\" , away_goals )"
   ]
  },
  {
   "cell_type": "code",
   "execution_count": 30,
   "metadata": {},
   "outputs": [
    {
     "data": {
      "text/plain": [
       "<matplotlib.legend.Legend at 0x7f3bf2e184e0>"
      ]
     },
     "execution_count": 30,
     "metadata": {},
     "output_type": "execute_result"
    },
    {
     "data": {
      "image/png": "[encoded data removed]",
      "text/plain": [
       "<matplotlib.figure.Figure at 0x7f3bf2d624e0>"
      ]
     },
     "metadata": {},
     "output_type": "display_data"
    }
   ],
   "source": [
    "fig, ax = plt.subplots()\n",
    "ax.plot(seasons, home_goals, 'r-o' , label=\"home goals (%)\" )\n",
    "ax.plot(seasons, away_goals, 'b-o' , label=\"away goals (%)\")\n",
    "ax.grid()\n",
    "plt.xticks(rotation='45')\n",
    "ax.legend()"
   ]
  },
  {
   "cell_type": "markdown",
   "metadata": {},
   "source": [
    "### creating  goal_diff feature , maybe it could help"
   ]
  },
  {
   "cell_type": "markdown",
   "metadata": {},
   "source": [
    "on la rajoutera dans l'attribut goal_diff et on verra ce que ça peut donner !"
   ]
  },
  {
   "cell_type": "code",
   "execution_count": 31,
   "metadata": {
    "scrolled": true
   },
   "outputs": [
    {
     "name": "stdout",
     "output_type": "stream",
     "text": [
      "La prediction avec un KNN  normalisé est avec une accuracy de  0.7395902181097158\n",
      "La prediction avec un KNN  normalisé est avec une accuracy de  0.7395902181097158\n",
      "La prediction avec un KNN  normalisé est avec une accuracy de  0.7395902181097158\n",
      "La prediction avec un KNN  normalisé est avec une accuracy de  0.7395902181097158\n",
      "La prediction avec un KNN  normalisé est avec une accuracy de  0.7395902181097158\n"
     ]
    }
   ],
   "source": [
    "for add in range(5) : \n",
    "    train_norm['goal_diff'] = train_norm['goal_diff'].apply( lambda x: x + 0.1 ) \n",
    "    test_norm['goal_diff'] = test_norm['goal_diff'].apply( lambda x: x + 0.1  ) \n",
    "    X_train_norm = train_norm.as_matrix(columns=['goal_diff', 'Speed' , 'chance_pass' , 'chance_cross' ,'defence_press' ])\n",
    "    Y_train_norm   = np.array(train_norm['final_class'])\n",
    "    X_test_norm  = test_norm.as_matrix(columns=['goal_diff', 'Speed' , 'chance_pass' , 'chance_cross' ,'defence_press' ])\n",
    "    Y_test_norm  = np.array(test_norm['final_class'])\n",
    "    acc = list()\n",
    "    for k in range ( 2 , 100 ) :\n",
    "        clf = KNeighborsClassifier( k )\n",
    "        trained_model = clf.fit( X_train_norm , Y_train_norm )\n",
    "        acc.append ( trained_model.score( X_test_norm , Y_test_norm ) )\n",
    "\n",
    "    print ( 'La prediction avec un KNN  normalisé est avec une accuracy de ', max(acc) )"
   ]
  },
  {
   "cell_type": "markdown",
   "metadata": {},
   "source": [
    "## Part 5 - Results"
   ]
  },
  {
   "cell_type": "markdown",
   "metadata": {},
   "source": [
    "##### A) Results and Figures related to learning\n",
    "after retrieving, regrouping and refining the data that we considered relevant we divided them into 2 parts\n",
    "\n",
    "Train: 2008/2009 ---> 2014/2015\n",
    "\n",
    "Test: 2015/2016\n",
    "\n",
    "1) The decision tree as well as the decision forest did not give an interesting accuracy (25%) which was very far from our expectations , so we gave up from the beginning\n",
    "\n",
    "2) The KNN was very interesting and very powerful despite its simplicity, it s one of the most efficient algorithms on classification problems.\n",
    "\n",
    " with our raw data we got an accuracy of almost 60% (59.6%) so we were able to exceed our target of 50%, then after normalizing the data ,  we had an accuracy of almost 74% , we also note that the best K has changed we went from K = 11 with raw data to K = 69 with standardized data\n",
    " \n",
    " we then made a small comparison between the different leagues to see a little what are the leagues which are very (respectively little ) predictable\n",
    " We can notice that the most predictable leagues are those of Switzerland and Scotland with more than 80% of correct answers, while those which are the little predictable are those of Poland, France and England with 70 % of correct answers\n",
    " \n",
    "\n",
    "##### B) Results and figures related to the data\n",
    "in an attempt to fine-tune the previous feature engineering and raise some regularities inside the data , we asked ourselves an intuitive question which is the following:\n",
    "\n",
    "\"Does playing at home have an impact on the results of a team?\"\n",
    "\n",
    "First, before diving into details, we see that the different percentages, whether it is for the \"wins, draws and loss\" or goals scored at \"home, away\" remains slightly stable during the seasons.\n",
    "so it's not random and it's a very interesting information!\n",
    "\n",
    "according to both figures it is clear that playing at home has a great impact on the final result, whether in terms of goals or in terms of wins. Teams earn a lot more and score many more goals during home games."
   ]
  },
  {
   "cell_type": "markdown",
   "metadata": {},
   "source": [
    "## Part 6 - Interpretation and analysis"
   ]
  },
  {
   "cell_type": "markdown",
   "metadata": {},
   "source": [
    "      1) statistics from previous seasons helped us a lot in predicting the '2015/2016' season, we made a good choice of features engineering by trying to characterize each team by its data vector [buildUpPlaySpeed chanceCreationPassing chanceCreationCrossing defensePressure] and then for a match, we represent it as a vector of data (subtraction) between the two vectors of the two teams, adding the average of the scores of the previous seasons in terms of goals between these two teams. after normalization it was perfect for a prediction system .\n",
    "      \n",
    "      2) The Decision trees and random forests did not give interesting results \n",
    "      \n",
    "      3) The KNN has given us better results because of the logic of the nearest neighbors that it follows, even with the data density which seems to be not linearly separable ! . After normalizing the data we had better results, because before the normalization the vector leaned much more for one feature compared to others \n",
    "      \n",
    "      4) In the comparison between the leagues, we can say that in the Swiss and Scottish league, we have a very strong stability of team skills score, or even of strength and this is what allowed us to make our predictions, for example we know that the championship is played between Rangers and Celtics for Scotland (respectively Fc Basel and Zurich for Switzerland), there is also the reduced number of clubs found in the Swiss league 10 clubs only, in the Scottish league there are 12 clubs which reduces the rate of errors in spite of the randomness of the football . However ,  the French league , English or even Polish. they have a very important number of clubs: 20 for France and England and 18 for Poland, in addition they are leagues where there is little stability, the players change clubs regularly, the levels of the clubs are very close and matches of previous seasons are very tight especially in poland and england which reduces the rate of accuracy.\n",
    "      \n",
    "      5) after having noted the influence of the \"home\", one can generate a list of factors which can participate in this significant impact compared to the final scores  :\n",
    "      - Playing away : usually the team leaving to play outside arrives tired, and even with the recovery the receiving team remains physically more resistant and present.\n",
    "      - Supporters: psychologically, it plays a very big role when we have thousands of people who encourage us and motivate us to win.\n",
    "      - Familiar environment: when we play at home we have very good benchmarks because it is our pitch , in general in which we train every day and we apply our tactics, there is also the length and the width of the stadium, lawn and so forth .\n",
    "      - Choice of referee: who can be influenced by the crowd during the match, it's psychological!\n",
    "      \n",
    "      6) future improvements:\n",
    "      - try to introduce also the capacities of the players and their potentials in the results of the teams (but in the current database, we can not do it because there is not a table\n",
    "      (Player_id, season, Team_id)\n",
    "      - make a system that predicts from one week to another week, and that supports the results and statistics of the previous week."
   ]
  }
 ],
 "metadata": {
  "kernelspec": {
   "display_name": "Python 3",
   "language": "python",
   "name": "python3"
  },
  "language_info": {
   "codemirror_mode": {
    "name": "ipython",
    "version": 3
   },
   "file_extension": ".py",
   "mimetype": "text/x-python",
   "name": "python",
   "nbconvert_exporter": "python",
   "pygments_lexer": "ipython3",
   "version": "3.7.3"
  }
 },
 "nbformat": 4,
 "nbformat_minor": 1
}
